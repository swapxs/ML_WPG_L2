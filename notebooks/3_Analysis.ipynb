{
 "cells": [
  {
   "cell_type": "markdown",
   "id": "af1ad64b-6aea-4604-890b-be837a8740aa",
   "metadata": {},
   "source": [
    "# Analysis Task"
   ]
  },
  {
   "cell_type": "code",
   "execution_count": 1,
   "id": "40c01d28-214c-4540-8828-ec649b5d8976",
   "metadata": {},
   "outputs": [],
   "source": [
    "from delta import configure_spark_with_delta_pip as cdp"
   ]
  },
  {
   "cell_type": "code",
   "execution_count": 2,
   "id": "2d9255f6-ea56-4a00-a219-94c9073a09d8",
   "metadata": {},
   "outputs": [],
   "source": [
    "from pyspark.sql import SparkSession as ss"
   ]
  },
  {
   "cell_type": "code",
   "execution_count": 3,
   "id": "7ecf07c6-4191-47d6-a3c1-d4523a244839",
   "metadata": {},
   "outputs": [],
   "source": [
    "from pyspark.sql.functions import (\n",
    "    countDistinct,  # Counts distinct values in a column\n",
    "    hour,           # Extracts the hour from a timestamp column\n",
    "    avg,            # Calculates the average of a column\n",
    "    when,           # Conditional logic (like CASE WHEN in SQL)\n",
    "    lit,            # Creates a literal value column\n",
    "    col,            # Selects a column by name\n",
    "    explode,        # Transforms elements of an array or map into multiple rows\n",
    "    create_map,     # Creates a map column from key-value pairs\n",
    "    broadcast       # Hints Spark to broadcast a smaller DataFrame for joins\n",
    ")"
   ]
  },
  {
   "cell_type": "code",
   "execution_count": 4,
   "id": "e580272a-f882-4067-9cd9-bbd608c03168",
   "metadata": {},
   "outputs": [],
   "source": [
    "from pyspark.sql.types import (\n",
    "    StructType as st,    # Defines the structure of a DataFrame\n",
    "    StructField as sf,   # Defines a single field within a StructType\n",
    "    StringType as srt,   # Defines a string data type for a field\n",
    ")"
   ]
  },
  {
   "cell_type": "markdown",
   "id": "71115872-85b1-4123-9c78-f9cba1995398",
   "metadata": {},
   "source": [
    "Start building the SparkSession configuration"
   ]
  },
  {
   "cell_type": "code",
   "execution_count": 5,
   "id": "3fd7d984-770a-4b94-aba6-104c2acaffff",
   "metadata": {},
   "outputs": [],
   "source": [
    "scb = ( # SparkContext Builder scb\n",
    "    ss.builder\n",
    "        .appName(\"Analysis\") \\\n",
    "        .master(\"spark://spark-master:7077\") \\\n",
    "        .config(\"spark.sql.extensions\", \"io.delta.sql.DeltaSparkSessionExtension\") \\\n",
    "        .config(\"spark.sql.catalog.spark_catalog\", \"org.apache.spark.sql.delta.catalog.DeltaCatalog\") \\\n",
    "        .config(\"spark.executor.cores\", \"4\") \\\n",
    "        .config(\"spark.executor.memory\", \"10g\")\\\n",
    "        .config(\"spark.cores.max\", \"4\") \\\n",
    ")"
   ]
  },
  {
   "cell_type": "markdown",
   "id": "04221739-d081-4e7f-ba20-3cbe1391c4bc",
   "metadata": {},
   "source": [
    "Configure the SparkSession builder with Delta Lake support using the imported helper function and then create or get the SparkSession instance"
   ]
  },
  {
   "cell_type": "code",
   "execution_count": 6,
   "id": "b46a0c52-88b1-4364-a73d-d337da6ba77b",
   "metadata": {},
   "outputs": [],
   "source": [
    "sprk = cdp(scb).getOrCreate()"
   ]
  },
  {
   "cell_type": "markdown",
   "id": "7fd9eeac-0e77-4a65-9244-de161ec8c9db",
   "metadata": {},
   "source": [
    "Define the file path to the Delta table created in the previous step"
   ]
  },
  {
   "cell_type": "code",
   "execution_count": 7,
   "id": "041aef0f-bab1-4504-943d-1b332a51f068",
   "metadata": {},
   "outputs": [],
   "source": [
    "fp = \"/data/delta_output\""
   ]
  },
  {
   "cell_type": "markdown",
   "id": "ab03a471-f9f2-4484-a541-80e6672ff95f",
   "metadata": {},
   "source": [
    "Read the data from the Delta table into a DataFrame"
   ]
  },
  {
   "cell_type": "code",
   "execution_count": 8,
   "id": "1b792e37-85f1-4563-8105-0ce1ecf3a9ad",
   "metadata": {},
   "outputs": [],
   "source": [
    "df = sprk.read.format(\"delta\").load(fp)"
   ]
  },
  {
   "cell_type": "code",
   "execution_count": 9,
   "id": "82f4ce91-631f-4b66-9852-0e86834d73c7",
   "metadata": {},
   "outputs": [
    {
     "name": "stdout",
     "output_type": "stream",
     "text": [
      "root\n",
      " |-- signal_date: date (nullable = true)\n",
      " |-- signal_ts: timestamp (nullable = true)\n",
      " |-- create_date: date (nullable = true)\n",
      " |-- create_ts: timestamp (nullable = true)\n",
      " |-- signals: map (nullable = true)\n",
      " |    |-- key: string\n",
      " |    |-- value: string (valueContainsNull = true)\n",
      "\n",
      "+-----------+-------------------+-----------+--------------------+--------------------+\n",
      "|signal_date|          signal_ts|create_date|           create_ts|             signals|\n",
      "+-----------+-------------------+-----------+--------------------+--------------------+\n",
      "| 2018-01-01|2018-01-01 00:00:00| 2025-04-02|2025-04-02 08:08:...|{LV ActivePower (...|\n",
      "| 2018-01-01|2018-01-01 00:00:00| 2025-04-02|2025-04-02 08:08:...|{LV ActivePower (...|\n",
      "| 2018-01-01|2018-01-01 00:10:00| 2025-04-02|2025-04-02 08:08:...|{LV ActivePower (...|\n",
      "| 2018-01-01|2018-01-01 00:10:00| 2025-04-02|2025-04-02 08:08:...|{LV ActivePower (...|\n",
      "| 2018-01-01|2018-01-01 00:20:00| 2025-04-02|2025-04-02 08:08:...|{LV ActivePower (...|\n",
      "+-----------+-------------------+-----------+--------------------+--------------------+\n",
      "only showing top 5 rows\n",
      "\n"
     ]
    }
   ],
   "source": [
    "df.printSchema()\n",
    "df.show(5)"
   ]
  },
  {
   "cell_type": "markdown",
   "id": "4e6615ec-3a1a-4843-8dd0-7caa72043c64",
   "metadata": {},
   "source": [
    "Calculate the number of distinct timestamps for each signal date"
   ]
  },
  {
   "cell_type": "code",
   "execution_count": 10,
   "id": "7a983fb1-6726-4bd9-891c-97ba6bbbe02e",
   "metadata": {},
   "outputs": [],
   "source": [
    "dts = (\n",
    "    df.groupBy(\"signal_date\")\n",
    "      .agg(countDistinct(\"signal_ts\").alias(\"distinct_ts_count\"))\n",
    ")"
   ]
  },
  {
   "cell_type": "code",
   "execution_count": 11,
   "id": "3be23750-eba3-41f4-84c6-6dfd472abb95",
   "metadata": {},
   "outputs": [
    {
     "name": "stdout",
     "output_type": "stream",
     "text": [
      "+-----------+-----------------+\n",
      "|signal_date|distinct_ts_count|\n",
      "+-----------+-----------------+\n",
      "| 2018-08-10|              144|\n",
      "| 2018-05-28|              144|\n",
      "| 2018-03-17|              144|\n",
      "| 2018-06-06|              144|\n",
      "| 2018-06-26|              141|\n",
      "| 2018-08-11|              144|\n",
      "| 2018-09-01|              144|\n",
      "| 2018-11-02|              144|\n",
      "| 2018-08-08|              144|\n",
      "| 2018-10-05|              144|\n",
      "| 2018-09-09|              144|\n",
      "| 2018-06-30|              144|\n",
      "| 2018-11-01|              144|\n",
      "| 2018-05-26|              144|\n",
      "| 2018-03-23|              144|\n",
      "| 2018-09-08|              144|\n",
      "| 2018-08-31|              144|\n",
      "| 2018-04-18|              144|\n",
      "| 2018-01-23|              144|\n",
      "| 2018-02-26|              144|\n",
      "+-----------+-----------------+\n",
      "only showing top 20 rows\n",
      "\n"
     ]
    }
   ],
   "source": [
    "dts.show()"
   ]
  },
  {
   "cell_type": "code",
   "execution_count": 12,
   "id": "30687264-adf6-4aa9-9495-e22674f5527f",
   "metadata": {},
   "outputs": [],
   "source": [
    "# Extract values from the 'signals' map column and cast them to double type for calculations.\n",
    "# This makes accessing these values easier in subsequent steps.\n",
    "\n",
    "lv_active_power_col = col(\"signals\")[\"LV ActivePower (kW)\"].cast(\"double\")\n",
    "wind_speed_col      = col(\"signals\")[\"Wind Speed (m/s)\"].cast(\"double\")\n",
    "theoretical_col     = col(\"signals\")[\"Theoretical_Power_Curve (KWh)\"].cast(\"double\")\n",
    "wind_dir_col        = col(\"signals\")[\"Wind Direction (°)\"].cast(\"double\")"
   ]
  },
  {
   "cell_type": "markdown",
   "id": "fd2700c0-3c4f-4a13-87c3-94f91c4a30fb",
   "metadata": {},
   "source": [
    "Group the data by date and hour, then calculate average values for the key metrics within each group"
   ]
  },
  {
   "cell_type": "code",
   "execution_count": 13,
   "id": "4d46d7c5-32d2-4199-97d8-7632efc36ef4",
   "metadata": {},
   "outputs": [],
   "source": [
    "grouped = (\n",
    "    df.groupBy( \"signal_date\", hour(\"signal_ts\").alias(\"hour_of_day\"))\n",
    "    .agg(\n",
    "        avg(lv_active_power_col).alias(\"avg_active_power\"),\n",
    "        avg(wind_speed_col).alias(\"avg_wind_speed\"),\n",
    "        avg(theoretical_col).alias(\"avg_theoretical_power_curve\"),\n",
    "        avg(wind_dir_col).alias(\"avg_wind_direction\")\n",
    "    )\n",
    ")"
   ]
  },
  {
   "cell_type": "code",
   "execution_count": 14,
   "id": "e7fd0a82-ec9d-40f7-8500-182c036173fb",
   "metadata": {},
   "outputs": [
    {
     "name": "stdout",
     "output_type": "stream",
     "text": [
      "+-----------+-----------+------------------+------------------+---------------------------+------------------+\n",
      "|signal_date|hour_of_day|  avg_active_power|    avg_wind_speed|avg_theoretical_power_curve|avg_wind_direction|\n",
      "+-----------+-----------+------------------+------------------+---------------------------+------------------+\n",
      "| 2018-01-01|         20|3205.9163411458317|11.479263305664015|          3406.212312613832|  197.523200988769|\n",
      "| 2018-01-04|         23| 789.4284159342432| 6.417605241139726|          783.0409379176934|26.087587992350205|\n",
      "| 2018-01-14|         12|               0.0|  8.70398680369059|         1958.5847292657152|33.799146970113064|\n",
      "| 2018-01-15|          4|               0.0| 6.353489796320594|          754.0327970967259| 73.85050710042314|\n",
      "| 2018-01-21|         15| 3527.467529296873|13.921771685282335|                     3600.0|177.95908610026004|\n",
      "+-----------+-----------+------------------+------------------+---------------------------+------------------+\n",
      "only showing top 5 rows\n",
      "\n"
     ]
    }
   ],
   "source": [
    "grouped.show(5)"
   ]
  },
  {
   "cell_type": "markdown",
   "id": "3f8e7bd1-fde1-4d47-abc5-f5c0b5c27634",
   "metadata": {},
   "source": [
    "Add a `generation_indicator` column based on the average active power"
   ]
  },
  {
   "cell_type": "code",
   "execution_count": 15,
   "id": "d9f65a1b-63e2-4cc3-8a12-b1f455605c1f",
   "metadata": {},
   "outputs": [],
   "source": [
    "gen_indicator = (\n",
    "    grouped.withColumn(\n",
    "        \"generation_indicator\",\n",
    "        when(col(\"avg_active_power\") < 200, \"Low\")\n",
    "        .when((col(\"avg_active_power\") >= 200) & (col(\"avg_active_power\") < 600), \"Medium\")\n",
    "        .when((col(\"avg_active_power\") >= 600) & (col(\"avg_active_power\") < 1000), \"High\")\n",
    "        .otherwise(\"Exceptional\")\n",
    "    )\n",
    ")"
   ]
  },
  {
   "cell_type": "code",
   "execution_count": 16,
   "id": "f91d28ff-cea9-473e-8476-f0243890a5b7",
   "metadata": {},
   "outputs": [
    {
     "name": "stdout",
     "output_type": "stream",
     "text": [
      "+-----------+-----------+------------------+------------------+---------------------------+------------------+--------------------+\n",
      "|signal_date|hour_of_day|  avg_active_power|    avg_wind_speed|avg_theoretical_power_curve|avg_wind_direction|generation_indicator|\n",
      "+-----------+-----------+------------------+------------------+---------------------------+------------------+--------------------+\n",
      "| 2018-01-01|         20|3205.9163411458317|11.479263305664015|          3406.212312613832|  197.523200988769|         Exceptional|\n",
      "| 2018-01-04|         23| 789.4284159342432| 6.417605241139726|          783.0409379176934|26.087587992350205|                High|\n",
      "| 2018-01-14|         12|               0.0|  8.70398680369059|         1958.5847292657152|33.799146970113064|                 Low|\n",
      "| 2018-01-15|          4|               0.0| 6.353489796320594|          754.0327970967259| 73.85050710042314|                 Low|\n",
      "| 2018-01-21|         15| 3527.467529296873|13.921771685282335|                     3600.0|177.95908610026004|         Exceptional|\n",
      "+-----------+-----------+------------------+------------------+---------------------------+------------------+--------------------+\n",
      "only showing top 5 rows\n",
      "\n"
     ]
    }
   ],
   "source": [
    "gen_indicator.show(5)"
   ]
  },
  {
   "cell_type": "code",
   "execution_count": 17,
   "id": "8ac6cbcb-2ca7-4dbb-b1f2-641550eb3243",
   "metadata": {},
   "outputs": [],
   "source": [
    "data = [\n",
    "    (\"LV ActivePower (kW)\", \"active_power_average\"),\n",
    "    (\"Wind Speed (m/s)\", \"wind_speed_average\"),\n",
    "    (\"Theoretical_Power_Curve (KWh)\", \"theo_power_curve_average\"),\n",
    "    (\"Wind Direction (°)\", \"wind_direction_average\")\n",
    "]"
   ]
  },
  {
   "cell_type": "markdown",
   "id": "4311a805-7f83-4463-82d3-8f6ddf9d2bcb",
   "metadata": {},
   "source": [
    "Define the schema for the mapping DataFrame"
   ]
  },
  {
   "cell_type": "code",
   "execution_count": 18,
   "id": "201b97b2-3b55-43aa-ad64-3b3e3c2c8b75",
   "metadata": {},
   "outputs": [],
   "source": [
    "schema = st([\n",
    "    sf(\"sig_name\", srt(), True),\n",
    "    sf(\"sig_mapping_name\", srt(), True)\n",
    "])"
   ]
  },
  {
   "cell_type": "markdown",
   "id": "f27ca32b-1e59-49e5-96bb-7180d84553be",
   "metadata": {},
   "source": [
    "Create the small mapping DataFrame in Spark from the defined data and schema"
   ]
  },
  {
   "cell_type": "code",
   "execution_count": 19,
   "id": "a1184a24-27b8-45e2-a7b9-9b104a6fee52",
   "metadata": {},
   "outputs": [],
   "source": [
    "new_df = sprk.createDataFrame(data, schema)"
   ]
  },
  {
   "cell_type": "markdown",
   "id": "8ea7b19d-ccbd-4725-9ae0-94f9c65db53a",
   "metadata": {},
   "source": [
    "Reshape the `gen_indicator` DataFrame: create a map of metrics, then explode it."
   ]
  },
  {
   "cell_type": "code",
   "execution_count": 20,
   "id": "7e0545b9-3250-4495-a6dc-d3b25bddbde0",
   "metadata": {},
   "outputs": [],
   "source": [
    "formatted_df = (\n",
    "    gen_indicator\n",
    "    .select(\n",
    "       \"signal_date\",\n",
    "       \"hour_of_day\",\n",
    "       \"generation_indicator\",\n",
    "       create_map(\n",
    "         lit(\"LV ActivePower (kW)\"), col(\"avg_active_power\"),\n",
    "         lit(\"Wind Speed (m/s)\"), col(\"avg_wind_speed\"),\n",
    "         lit(\"Theoretical_Power_Curve (KWh)\"), col(\"avg_theoretical_power_curve\"),\n",
    "         lit(\"Wind Direction (°)\"), col(\"avg_wind_direction\")\n",
    "       ).alias(\"metrics\")\n",
    "    )\n",
    "    .select(\n",
    "       \"signal_date\",\n",
    "       \"hour_of_day\",\n",
    "       \"generation_indicator\",\n",
    "       explode(col(\"metrics\")).alias(\"sig_name\", \"value\")\n",
    "    )\n",
    ")"
   ]
  },
  {
   "cell_type": "markdown",
   "id": "341e5c35-e1ec-40a5-966d-53d133b3907f",
   "metadata": {},
   "source": [
    "Join the `formatted_df` (long format data) with the `new_df` (mapping data)"
   ]
  },
  {
   "cell_type": "code",
   "execution_count": 21,
   "id": "f4a3c9ee-28f4-4e68-bd84-39cc76c63011",
   "metadata": {},
   "outputs": [],
   "source": [
    "joined_df = (\n",
    "    formatted_df\n",
    "    .join(broadcast(new_df), on=\"sig_name\", how=\"left\")\n",
    "    .select(\n",
    "       \"signal_date\",\n",
    "       \"hour_of_day\",\n",
    "       \"generation_indicator\",\n",
    "       \"sig_name\",\n",
    "       \"sig_mapping_name\",\n",
    "       \"value\"\n",
    "    )\n",
    ")"
   ]
  },
  {
   "cell_type": "code",
   "execution_count": 22,
   "id": "0e4cf218-b56e-49bf-ba29-68c14b9b5263",
   "metadata": {},
   "outputs": [
    {
     "name": "stdout",
     "output_type": "stream",
     "text": [
      "+-----------+-----------+--------------------+--------------------+--------------------+------------------+\n",
      "|signal_date|hour_of_day|generation_indicator|            sig_name|    sig_mapping_name|             value|\n",
      "+-----------+-----------+--------------------+--------------------+--------------------+------------------+\n",
      "| 2018-01-01|         20|         Exceptional| LV ActivePower (kW)|active_power_average|3205.9163411458317|\n",
      "| 2018-01-01|         20|         Exceptional|    Wind Speed (m/s)|  wind_speed_average|11.479263305664015|\n",
      "| 2018-01-01|         20|         Exceptional|Theoretical_Power...|theo_power_curve_...| 3406.212312613832|\n",
      "| 2018-01-01|         20|         Exceptional|  Wind Direction (°)|wind_direction_av...|  197.523200988769|\n",
      "| 2018-01-04|         23|                High| LV ActivePower (kW)|active_power_average| 789.4284159342432|\n",
      "| 2018-01-04|         23|                High|    Wind Speed (m/s)|  wind_speed_average| 6.417605241139726|\n",
      "| 2018-01-04|         23|                High|Theoretical_Power...|theo_power_curve_...| 783.0409379176934|\n",
      "| 2018-01-04|         23|                High|  Wind Direction (°)|wind_direction_av...|26.087587992350205|\n",
      "| 2018-01-14|         12|                 Low| LV ActivePower (kW)|active_power_average|               0.0|\n",
      "| 2018-01-14|         12|                 Low|    Wind Speed (m/s)|  wind_speed_average|  8.70398680369059|\n",
      "| 2018-01-14|         12|                 Low|Theoretical_Power...|theo_power_curve_...|1958.5847292657152|\n",
      "| 2018-01-14|         12|                 Low|  Wind Direction (°)|wind_direction_av...|33.799146970113064|\n",
      "| 2018-01-15|          4|                 Low| LV ActivePower (kW)|active_power_average|               0.0|\n",
      "| 2018-01-15|          4|                 Low|    Wind Speed (m/s)|  wind_speed_average| 6.353489796320594|\n",
      "| 2018-01-15|          4|                 Low|Theoretical_Power...|theo_power_curve_...| 754.0327970967259|\n",
      "| 2018-01-15|          4|                 Low|  Wind Direction (°)|wind_direction_av...| 73.85050710042314|\n",
      "| 2018-01-21|         15|         Exceptional| LV ActivePower (kW)|active_power_average| 3527.467529296873|\n",
      "| 2018-01-21|         15|         Exceptional|    Wind Speed (m/s)|  wind_speed_average|13.921771685282335|\n",
      "| 2018-01-21|         15|         Exceptional|Theoretical_Power...|theo_power_curve_...|            3600.0|\n",
      "| 2018-01-21|         15|         Exceptional|  Wind Direction (°)|wind_direction_av...|177.95908610026004|\n",
      "+-----------+-----------+--------------------+--------------------+--------------------+------------------+\n",
      "only showing top 20 rows\n",
      "\n"
     ]
    }
   ],
   "source": [
    "joined_df.show()"
   ]
  },
  {
   "cell_type": "code",
   "execution_count": 23,
   "id": "135265e5-85af-4e37-9429-20331d970e37",
   "metadata": {},
   "outputs": [],
   "source": [
    "sprk.stop()"
   ]
  },
  {
   "cell_type": "code",
   "execution_count": null,
   "id": "f2494aad-73bb-4032-a497-37b1e47fab79",
   "metadata": {},
   "outputs": [],
   "source": []
  }
 ],
 "metadata": {
  "kernelspec": {
   "display_name": "Python 3 (ipykernel)",
   "language": "python",
   "name": "python3"
  },
  "language_info": {
   "codemirror_mode": {
    "name": "ipython",
    "version": 3
   },
   "file_extension": ".py",
   "mimetype": "text/x-python",
   "name": "python",
   "nbconvert_exporter": "python",
   "pygments_lexer": "ipython3",
   "version": "3.12.9"
  }
 },
 "nbformat": 4,
 "nbformat_minor": 5
}
