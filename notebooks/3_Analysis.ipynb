{
 "cells": [
  {
   "cell_type": "code",
   "execution_count": 1,
   "id": "7ecf07c6-4191-47d6-a3c1-d4523a244839",
   "metadata": {},
   "outputs": [],
   "source": [
    "from delta import configure_spark_with_delta_pip as cdp\n",
    "from pyspark.sql import SparkSession as ss\n",
    "from pyspark.sql.functions import (\n",
    "    countDistinct,\n",
    "    hour,\n",
    "    avg,\n",
    "    when,\n",
    "    lit,\n",
    "    col,\n",
    "    explode,\n",
    "    create_map,\n",
    "    broadcast\n",
    ")\n",
    "\n",
    "from pyspark.sql.types import (\n",
    "    StructType as st,\n",
    "    StructField as sf,\n",
    "    StringType as srt,\n",
    ")"
   ]
  },
  {
   "cell_type": "code",
   "execution_count": 2,
   "id": "3fd7d984-770a-4b94-aba6-104c2acaffff",
   "metadata": {},
   "outputs": [],
   "source": [
    "scb = ( # SparkContext Builder scb\n",
    "    ss.builder\n",
    "        .appName(\"Analysis\") \\\n",
    "        .master(\"spark://spark-master:7077\") \\\n",
    "        .config(\"spark.sql.extensions\", \"io.delta.sql.DeltaSparkSessionExtension\") \\\n",
    "        .config(\"spark.sql.catalog.spark_catalog\", \"org.apache.spark.sql.delta.catalog.DeltaCatalog\") \\\n",
    "        .config(\"spark.executor.cores\", \"4\") \\\n",
    "        .config(\"spark.executor.memory\", \"10g\")\\\n",
    "        .config(\"spark.cores.max\", \"4\") \\\n",
    ")"
   ]
  },
  {
   "cell_type": "code",
   "execution_count": 3,
   "id": "b46a0c52-88b1-4364-a73d-d337da6ba77b",
   "metadata": {},
   "outputs": [],
   "source": [
    "sprk = cdp(scb).getOrCreate()"
   ]
  },
  {
   "cell_type": "code",
   "execution_count": 4,
   "id": "041aef0f-bab1-4504-943d-1b332a51f068",
   "metadata": {},
   "outputs": [],
   "source": [
    "fp = \"/data/delta_output\""
   ]
  },
  {
   "cell_type": "code",
   "execution_count": 5,
   "id": "1b792e37-85f1-4563-8105-0ce1ecf3a9ad",
   "metadata": {},
   "outputs": [],
   "source": [
    "df = sprk.read.format(\"delta\").load(fp)"
   ]
  },
  {
   "cell_type": "code",
   "execution_count": 6,
   "id": "82f4ce91-631f-4b66-9852-0e86834d73c7",
   "metadata": {},
   "outputs": [
    {
     "name": "stdout",
     "output_type": "stream",
     "text": [
      "root\n",
      " |-- signal_date: date (nullable = true)\n",
      " |-- signal_ts: timestamp (nullable = true)\n",
      " |-- create_date: date (nullable = true)\n",
      " |-- create_ts: timestamp (nullable = true)\n",
      " |-- signals: map (nullable = true)\n",
      " |    |-- key: string\n",
      " |    |-- value: string (valueContainsNull = true)\n",
      "\n",
      "+-----------+-------------------+-----------+--------------------+--------------------+\n",
      "|signal_date|          signal_ts|create_date|           create_ts|             signals|\n",
      "+-----------+-------------------+-----------+--------------------+--------------------+\n",
      "| 2018-01-01|2018-01-01 00:00:00| 2025-03-27|2025-03-27 03:00:...|{LV ActivePower (...|\n",
      "| 2018-01-01|2018-01-01 00:00:00| 2025-03-27|2025-03-27 03:00:...|{LV ActivePower (...|\n",
      "| 2018-01-01|2018-01-01 00:10:00| 2025-03-27|2025-03-27 03:00:...|{LV ActivePower (...|\n",
      "| 2018-01-01|2018-01-01 00:10:00| 2025-03-27|2025-03-27 03:00:...|{LV ActivePower (...|\n",
      "| 2018-01-01|2018-01-01 00:20:00| 2025-03-27|2025-03-27 03:00:...|{LV ActivePower (...|\n",
      "+-----------+-------------------+-----------+--------------------+--------------------+\n",
      "only showing top 5 rows\n",
      "\n"
     ]
    }
   ],
   "source": [
    "df.printSchema()\n",
    "df.show(5)"
   ]
  },
  {
   "cell_type": "code",
   "execution_count": 7,
   "id": "7a983fb1-6726-4bd9-891c-97ba6bbbe02e",
   "metadata": {},
   "outputs": [],
   "source": [
    "dts = (\n",
    "    df.groupBy(\"signal_date\")\n",
    "      .agg(countDistinct(\"signal_ts\").alias(\"distinct_ts_count\"))\n",
    ")\n"
   ]
  },
  {
   "cell_type": "code",
   "execution_count": 8,
   "id": "3be23750-eba3-41f4-84c6-6dfd472abb95",
   "metadata": {},
   "outputs": [
    {
     "name": "stdout",
     "output_type": "stream",
     "text": [
      "+-----------+-----------------+\n",
      "|signal_date|distinct_ts_count|\n",
      "+-----------+-----------------+\n",
      "| 2018-08-10|              144|\n",
      "| 2018-05-28|              144|\n",
      "| 2018-03-17|              144|\n",
      "| 2018-06-06|              144|\n",
      "| 2018-06-26|              141|\n",
      "+-----------+-----------------+\n",
      "only showing top 5 rows\n",
      "\n"
     ]
    }
   ],
   "source": [
    "dts.show(5)"
   ]
  },
  {
   "cell_type": "code",
   "execution_count": 9,
   "id": "30687264-adf6-4aa9-9495-e22674f5527f",
   "metadata": {},
   "outputs": [],
   "source": [
    "lv_active_power_col = col(\"signals\")[\"LV ActivePower (kW)\"].cast(\"double\")\n",
    "wind_speed_col      = col(\"signals\")[\"Wind Speed (m/s)\"].cast(\"double\")\n",
    "theoretical_col     = col(\"signals\")[\"Theoretical_Power_Curve (KWh)\"].cast(\"double\")\n",
    "wind_dir_col        = col(\"signals\")[\"Wind Direction (°)\"].cast(\"double\")"
   ]
  },
  {
   "cell_type": "code",
   "execution_count": 10,
   "id": "4d46d7c5-32d2-4199-97d8-7632efc36ef4",
   "metadata": {},
   "outputs": [],
   "source": [
    "grouped = (\n",
    "    df.groupBy( \"signal_date\", hour(\"signal_ts\").alias(\"hour_of_day\"))\n",
    "    .agg(\n",
    "        avg(lv_active_power_col).alias(\"avg_active_power\"),\n",
    "        avg(wind_speed_col).alias(\"avg_wind_speed\"),\n",
    "        avg(theoretical_col).alias(\"avg_theoretical_power_curve\"),\n",
    "        avg(wind_dir_col).alias(\"avg_wind_direction\")\n",
    "    )\n",
    ")"
   ]
  },
  {
   "cell_type": "code",
   "execution_count": 11,
   "id": "e7fd0a82-ec9d-40f7-8500-182c036173fb",
   "metadata": {},
   "outputs": [
    {
     "name": "stdout",
     "output_type": "stream",
     "text": [
      "+-----------+-----------+------------------+------------------+---------------------------+------------------+\n",
      "|signal_date|hour_of_day|  avg_active_power|    avg_wind_speed|avg_theoretical_power_curve|avg_wind_direction|\n",
      "+-----------+-----------+------------------+------------------+---------------------------+------------------+\n",
      "| 2018-01-01|         20|3205.9163411458317|11.479263305664015|          3406.212312613832|  197.523200988769|\n",
      "| 2018-01-04|         23| 789.4284159342432| 6.417605241139726|          783.0409379176934|26.087587992350205|\n",
      "| 2018-01-14|         12|               0.0|  8.70398680369059|         1958.5847292657152|33.799146970113064|\n",
      "| 2018-01-15|          4|               0.0| 6.353489796320594|          754.0327970967259| 73.85050710042314|\n",
      "| 2018-01-21|         15| 3527.467529296873|13.921771685282335|                     3600.0|177.95908610026004|\n",
      "+-----------+-----------+------------------+------------------+---------------------------+------------------+\n",
      "only showing top 5 rows\n",
      "\n"
     ]
    }
   ],
   "source": [
    "grouped.show(5)"
   ]
  },
  {
   "cell_type": "code",
   "execution_count": 12,
   "id": "870a82a7-625c-471f-b415-aa8e07148bdd",
   "metadata": {},
   "outputs": [],
   "source": [
    "gen_indicator = (\n",
    "    grouped.withColumn(\n",
    "        \"generation_indicator\",\n",
    "        when(col(\"avg_active_power\") < 200, \"Low\")\n",
    "        .when((col(\"avg_active_power\") >= 200) & (col(\"avg_active_power\") < 600), \"Medium\")\n",
    "        .when((col(\"avg_active_power\") >= 600) & (col(\"avg_active_power\") < 1000), \"High\")\n",
    "        .otherwise(\"Exceptional\")\n",
    "    )\n",
    ")"
   ]
  },
  {
   "cell_type": "code",
   "execution_count": 13,
   "id": "f91d28ff-cea9-473e-8476-f0243890a5b7",
   "metadata": {},
   "outputs": [
    {
     "name": "stdout",
     "output_type": "stream",
     "text": [
      "+-----------+-----------+------------------+------------------+---------------------------+------------------+--------------------+\n",
      "|signal_date|hour_of_day|  avg_active_power|    avg_wind_speed|avg_theoretical_power_curve|avg_wind_direction|generation_indicator|\n",
      "+-----------+-----------+------------------+------------------+---------------------------+------------------+--------------------+\n",
      "| 2018-01-01|         20|3205.9163411458317|11.479263305664015|          3406.212312613832|  197.523200988769|         Exceptional|\n",
      "| 2018-01-04|         23| 789.4284159342432| 6.417605241139726|          783.0409379176934|26.087587992350205|                High|\n",
      "| 2018-01-14|         12|               0.0|  8.70398680369059|         1958.5847292657152|33.799146970113064|                 Low|\n",
      "| 2018-01-15|          4|               0.0| 6.353489796320594|          754.0327970967259| 73.85050710042314|                 Low|\n",
      "| 2018-01-21|         15| 3527.467529296873|13.921771685282335|                     3600.0|177.95908610026004|         Exceptional|\n",
      "+-----------+-----------+------------------+------------------+---------------------------+------------------+--------------------+\n",
      "only showing top 5 rows\n",
      "\n"
     ]
    }
   ],
   "source": [
    "gen_indicator.show(5)"
   ]
  },
  {
   "cell_type": "code",
   "execution_count": 14,
   "id": "8ac6cbcb-2ca7-4dbb-b1f2-641550eb3243",
   "metadata": {},
   "outputs": [],
   "source": [
    "data = [\n",
    "    (\"LV ActivePower (kW)\", \"active_power_average\"),\n",
    "    (\"Wind Speed (m/s)\", \"wind_speed_average\"),\n",
    "    (\"Theoretical_Power_Curve (KWh)\", \"theo_power_curve_average\"),\n",
    "    (\"Wind Direction (°)\", \"wind_direction_average\")\n",
    "]"
   ]
  },
  {
   "cell_type": "code",
   "execution_count": 15,
   "id": "201b97b2-3b55-43aa-ad64-3b3e3c2c8b75",
   "metadata": {},
   "outputs": [],
   "source": [
    "schema = st([\n",
    "    sf(\"sig_name\", srt(), True),\n",
    "    sf(\"sig_mapping_name\", srt(), True)\n",
    "])"
   ]
  },
  {
   "cell_type": "code",
   "execution_count": 16,
   "id": "a1184a24-27b8-45e2-a7b9-9b104a6fee52",
   "metadata": {},
   "outputs": [],
   "source": [
    "new_df = sprk.createDataFrame(data, schema)"
   ]
  },
  {
   "cell_type": "code",
   "execution_count": 17,
   "id": "7e0545b9-3250-4495-a6dc-d3b25bddbde0",
   "metadata": {},
   "outputs": [],
   "source": [
    "formatted_df = (\n",
    "    gen_indicator\n",
    "    .select(\n",
    "       \"signal_date\",\n",
    "       \"hour_of_day\",\n",
    "       \"generation_indicator\",\n",
    "       create_map(\n",
    "         lit(\"LV ActivePower (kW)\"), col(\"avg_active_power\"),\n",
    "         lit(\"Wind Speed (m/s)\"), col(\"avg_wind_speed\"),\n",
    "         lit(\"Theoretical_Power_Curve (KWh)\"), col(\"avg_theoretical_power_curve\"),\n",
    "         lit(\"Wind Direction (°)\"), col(\"avg_wind_direction\")\n",
    "       ).alias(\"metrics\")\n",
    "    )\n",
    "    .select(\n",
    "       \"signal_date\",\n",
    "       \"hour_of_day\",\n",
    "       \"generation_indicator\",\n",
    "       explode(col(\"metrics\")).alias(\"sig_name\", \"value\")\n",
    "    )\n",
    ")"
   ]
  },
  {
   "cell_type": "code",
   "execution_count": 18,
   "id": "f4a3c9ee-28f4-4e68-bd84-39cc76c63011",
   "metadata": {},
   "outputs": [],
   "source": [
    "joined_df = (\n",
    "    formatted_df\n",
    "    .join(broadcast(new_df), on=\"sig_name\", how=\"left\")\n",
    "    .select(\n",
    "       \"signal_date\",\n",
    "       \"hour_of_day\",\n",
    "       \"generation_indicator\",\n",
    "       \"sig_name\",\n",
    "       \"sig_mapping_name\",\n",
    "       \"value\"\n",
    "    )\n",
    ")"
   ]
  },
  {
   "cell_type": "code",
   "execution_count": 19,
   "id": "0e4cf218-b56e-49bf-ba29-68c14b9b5263",
   "metadata": {},
   "outputs": [
    {
     "name": "stdout",
     "output_type": "stream",
     "text": [
      "+-----------+-----------+--------------------+--------------------+--------------------+------------------+\n",
      "|signal_date|hour_of_day|generation_indicator|            sig_name|    sig_mapping_name|             value|\n",
      "+-----------+-----------+--------------------+--------------------+--------------------+------------------+\n",
      "| 2018-01-01|         20|         Exceptional| LV ActivePower (kW)|active_power_average|3205.9163411458317|\n",
      "| 2018-01-01|         20|         Exceptional|    Wind Speed (m/s)|  wind_speed_average|11.479263305664015|\n",
      "| 2018-01-01|         20|         Exceptional|Theoretical_Power...|theo_power_curve_...| 3406.212312613832|\n",
      "| 2018-01-01|         20|         Exceptional|  Wind Direction (°)|wind_direction_av...|  197.523200988769|\n",
      "| 2018-01-04|         23|                High| LV ActivePower (kW)|active_power_average| 789.4284159342432|\n",
      "| 2018-01-04|         23|                High|    Wind Speed (m/s)|  wind_speed_average| 6.417605241139726|\n",
      "| 2018-01-04|         23|                High|Theoretical_Power...|theo_power_curve_...| 783.0409379176934|\n",
      "| 2018-01-04|         23|                High|  Wind Direction (°)|wind_direction_av...|26.087587992350205|\n",
      "| 2018-01-14|         12|                 Low| LV ActivePower (kW)|active_power_average|               0.0|\n",
      "| 2018-01-14|         12|                 Low|    Wind Speed (m/s)|  wind_speed_average|  8.70398680369059|\n",
      "| 2018-01-14|         12|                 Low|Theoretical_Power...|theo_power_curve_...|1958.5847292657152|\n",
      "| 2018-01-14|         12|                 Low|  Wind Direction (°)|wind_direction_av...|33.799146970113064|\n",
      "| 2018-01-15|          4|                 Low| LV ActivePower (kW)|active_power_average|               0.0|\n",
      "| 2018-01-15|          4|                 Low|    Wind Speed (m/s)|  wind_speed_average| 6.353489796320594|\n",
      "| 2018-01-15|          4|                 Low|Theoretical_Power...|theo_power_curve_...| 754.0327970967259|\n",
      "| 2018-01-15|          4|                 Low|  Wind Direction (°)|wind_direction_av...| 73.85050710042314|\n",
      "| 2018-01-21|         15|         Exceptional| LV ActivePower (kW)|active_power_average| 3527.467529296873|\n",
      "| 2018-01-21|         15|         Exceptional|    Wind Speed (m/s)|  wind_speed_average|13.921771685282335|\n",
      "| 2018-01-21|         15|         Exceptional|Theoretical_Power...|theo_power_curve_...|            3600.0|\n",
      "| 2018-01-21|         15|         Exceptional|  Wind Direction (°)|wind_direction_av...|177.95908610026004|\n",
      "+-----------+-----------+--------------------+--------------------+--------------------+------------------+\n",
      "only showing top 20 rows\n",
      "\n"
     ]
    }
   ],
   "source": [
    "joined_df.show()"
   ]
  },
  {
   "cell_type": "code",
   "execution_count": 20,
   "id": "135265e5-85af-4e37-9429-20331d970e37",
   "metadata": {},
   "outputs": [],
   "source": [
    "sprk.stop()"
   ]
  },
  {
   "cell_type": "code",
   "execution_count": null,
   "id": "894f2837-a50d-4df7-a65c-4603dcabe06f",
   "metadata": {},
   "outputs": [],
   "source": []
  }
 ],
 "metadata": {
  "kernelspec": {
   "display_name": "Python 3 (ipykernel)",
   "language": "python",
   "name": "python3"
  },
  "language_info": {
   "codemirror_mode": {
    "name": "ipython",
    "version": 3
   },
   "file_extension": ".py",
   "mimetype": "text/x-python",
   "name": "python",
   "nbconvert_exporter": "python",
   "pygments_lexer": "ipython3",
   "version": "3.12.9"
  }
 },
 "nbformat": 4,
 "nbformat_minor": 5
}
