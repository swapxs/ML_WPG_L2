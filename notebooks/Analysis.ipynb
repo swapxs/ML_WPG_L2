{
 "cells": [
  {
   "cell_type": "code",
   "execution_count": 1,
   "id": "4fa16f3d-bff9-4289-ae81-cb42153756f2",
   "metadata": {},
   "outputs": [],
   "source": [
    "from delta import configure_spark_with_delta_pip\n",
    "from pyspark.sql import SparkSession\n",
    "from pyspark.sql.functions import (\n",
    "    countDistinct,\n",
    "    hour,\n",
    "    avg,\n",
    "    when,\n",
    "    lit,\n",
    "    col,\n",
    "    explode,\n",
    "    create_map,\n",
    "    broadcast\n",
    ")\n",
    "\n",
    "from pyspark.sql.types import (\n",
    "    StructType as st,\n",
    "    StructField as sf,\n",
    "    StringType as srt,\n",
    ")"
   ]
  },
  {
   "cell_type": "markdown",
   "id": "068bd1bc-1500-421a-b664-875be9ffe44d",
   "metadata": {},
   "source": [
    "Create a SparkSession with Delta Lake support:  \n",
    "- Master is set to `spark://spark-master:7077`  \n",
    "- Additional configs enable DeltaLake integration"
   ]
  },
  {
   "cell_type": "code",
   "execution_count": 2,
   "id": "b92c36ac-be53-403e-baab-6383545a5553",
   "metadata": {},
   "outputs": [],
   "source": [
    "builder = (\n",
    "    SparkSession.builder\n",
    "        .appName(\"Analysis\")\n",
    "        .master(\"spark://spark-master:7077\") \n",
    "        .config(\"spark.sql.extensions\", \"io.delta.sql.DeltaSparkSessionExtension\")\n",
    "        .config(\"spark.sql.catalog.spark_catalog\", \"org.apache.spark.sql.delta.catalog.DeltaCatalog\")\n",
    ")"
   ]
  },
  {
   "cell_type": "code",
   "execution_count": 3,
   "id": "739d6430-2510-4e93-ac0f-f3516f58b19e",
   "metadata": {},
   "outputs": [],
   "source": [
    "sprk = configure_spark_with_delta_pip(builder).getOrCreate()\n",
    "sprk.sparkContext.setLogLevel(\"WARN\")"
   ]
  },
  {
   "cell_type": "markdown",
   "id": "287a1a1e-b792-4580-89dc-adca364394c6",
   "metadata": {},
   "source": [
    "Path to the Delta table created by the Kafka subscriber"
   ]
  },
  {
   "cell_type": "code",
   "execution_count": 4,
   "id": "92ffced0-904e-469a-b78c-88b1835450de",
   "metadata": {},
   "outputs": [],
   "source": [
    "fp = \"/data/delta_output\""
   ]
  },
  {
   "cell_type": "code",
   "execution_count": null,
   "id": "c422c53e-072a-49fc-8d0e-fa157bc95831",
   "metadata": {},
   "outputs": [],
   "source": [
    "# Read the Delta table into a DataFrame"
   ]
  },
  {
   "cell_type": "code",
   "execution_count": 5,
   "id": "6a656700-9d75-4028-a387-aadb61c5802a",
   "metadata": {},
   "outputs": [],
   "source": [
    "df = sprk.read.format(\"delta\").load(fp)"
   ]
  },
  {
   "cell_type": "code",
   "execution_count": 6,
   "id": "9827c85b-cf7b-4707-81e4-0ae47a8a6f88",
   "metadata": {},
   "outputs": [
    {
     "name": "stdout",
     "output_type": "stream",
     "text": [
      "root\n",
      " |-- signal_date: date (nullable = true)\n",
      " |-- signal_ts: timestamp (nullable = true)\n",
      " |-- create_date: date (nullable = true)\n",
      " |-- create_ts: timestamp (nullable = true)\n",
      " |-- signals: map (nullable = true)\n",
      " |    |-- key: string\n",
      " |    |-- value: string (valueContainsNull = true)\n",
      "\n"
     ]
    }
   ],
   "source": [
    "df.printSchema()"
   ]
  },
  {
   "cell_type": "code",
   "execution_count": 7,
   "id": "dff71147-b011-4171-996c-0399f1b71880",
   "metadata": {
    "scrolled": true
   },
   "outputs": [
    {
     "name": "stdout",
     "output_type": "stream",
     "text": [
      "+-----------+-------------------+-----------+-----------------------+--------------------------------------------------------------------------------------------------------------------------------------------------------------------------+\n",
      "|signal_date|signal_ts          |create_date|create_ts              |signals                                                                                                                                                                   |\n",
      "+-----------+-------------------+-----------+-----------------------+--------------------------------------------------------------------------------------------------------------------------------------------------------------------------+\n",
      "|2018-01-02 |2018-01-02 13:00:00|2025-03-25 |2025-03-25 04:32:19.771|{LV ActivePower (kW) -> 1278.89501953125, Wind Speed (m/s) -> 9.0723066329956, Theoretical_Power_Curve (KWh) -> 2190.70476314143, Wind Direction (°) -> 198.236404418945} |\n",
      "|2018-01-01 |2018-01-01 04:20:00|2025-03-25 |2025-03-25 04:32:19.771|{LV ActivePower (kW) -> 1636.93505859375, Wind Speed (m/s) -> 8.23695755004882, Theoretical_Power_Curve (KWh) -> 1668.47070685152, Wind Direction (°) -> 247.979400634765}|\n",
      "|2018-01-01 |2018-01-01 04:50:00|2025-03-25 |2025-03-25 04:32:19.771|{LV ActivePower (kW) -> 1021.4580078125, Wind Speed (m/s) -> 6.95530700683593, Theoretical_Power_Curve (KWh) -> 995.995854606612, Wind Direction (°) -> 245.410202026367} |\n",
      "|2018-01-02 |2018-01-02 21:00:00|2025-03-25 |2025-03-25 04:32:19.771|{LV ActivePower (kW) -> 3591.09301757812, Wind Speed (m/s) -> 12.7283201217651, Theoretical_Power_Curve (KWh) -> 3592.26902604332, Wind Direction (°) -> 202.413299560546}|\n",
      "|2018-01-04 |2018-01-04 07:00:00|2025-03-25 |2025-03-25 04:32:19.771|{LV ActivePower (kW) -> 1693.27099609375, Wind Speed (m/s) -> 8.15549182891845, Theoretical_Power_Curve (KWh) -> 1620.25783272867, Wind Direction (°) -> 215.366104125976}|\n",
      "+-----------+-------------------+-----------+-----------------------+--------------------------------------------------------------------------------------------------------------------------------------------------------------------------+\n",
      "only showing top 5 rows\n",
      "\n"
     ]
    }
   ],
   "source": [
    "df.show(5, truncate=False)"
   ]
  },
  {
   "cell_type": "markdown",
   "id": "6aaf23a0-9af1-41e6-9842-3d4b7533960a",
   "metadata": {},
   "source": [
    "1) Calculate number of distinct `signal_ts` per day"
   ]
  },
  {
   "cell_type": "code",
   "execution_count": 8,
   "id": "d84a0bff-e3d6-4211-a185-2c8e445b4643",
   "metadata": {},
   "outputs": [],
   "source": [
    "dts = (\n",
    "    df.groupBy(\"signal_date\")\n",
    "      .agg(countDistinct(\"signal_ts\").alias(\"distinct_ts_count\"))\n",
    ")"
   ]
  },
  {
   "cell_type": "code",
   "execution_count": 9,
   "id": "0bb0666b-d2bb-413d-b739-1ed2eef9fc2c",
   "metadata": {},
   "outputs": [
    {
     "name": "stdout",
     "output_type": "stream",
     "text": [
      "+-----------+-----------------+\n",
      "|signal_date|distinct_ts_count|\n",
      "+-----------+-----------------+\n",
      "| 2018-03-17|              144|\n",
      "| 2018-03-23|              144|\n",
      "| 2018-01-23|              144|\n",
      "| 2018-02-26|              144|\n",
      "| 2018-01-11|              144|\n",
      "| 2018-02-22|              144|\n",
      "| 2018-01-18|              144|\n",
      "| 2018-01-08|              144|\n",
      "| 2018-03-08|              144|\n",
      "| 2018-02-11|              144|\n",
      "| 2018-01-14|              144|\n",
      "| 2018-03-13|              144|\n",
      "| 2018-01-13|              144|\n",
      "| 2018-01-05|              144|\n",
      "| 2018-02-01|              144|\n",
      "| 2018-02-04|              144|\n",
      "| 2018-01-16|              144|\n",
      "| 2018-02-23|              144|\n",
      "| 2018-03-29|              144|\n",
      "| 2018-01-12|              143|\n",
      "+-----------+-----------------+\n",
      "only showing top 20 rows\n",
      "\n"
     ]
    }
   ],
   "source": [
    "dts.show()"
   ]
  },
  {
   "cell_type": "markdown",
   "id": "2fe6aee0-9831-407e-91e8-3616399792c4",
   "metadata": {},
   "source": [
    "2) Calculate average value of all signals per hour  \n",
    "Extract columns from the `signals` map"
   ]
  },
  {
   "cell_type": "code",
   "execution_count": 10,
   "id": "5cfaa3ca-e675-43b5-8603-cac8d97ef1ab",
   "metadata": {},
   "outputs": [],
   "source": [
    "lv_active_power_col = col(\"signals\")[\"LV ActivePower (kW)\"].cast(\"double\")\n",
    "wind_speed_col      = col(\"signals\")[\"Wind Speed (m/s)\"].cast(\"double\")\n",
    "theoretical_col     = col(\"signals\")[\"Theoretical_Power_Curve (KWh)\"].cast(\"double\")\n",
    "wind_dir_col        = col(\"signals\")[\"Wind Direction (°)\"].cast(\"double\")"
   ]
  },
  {
   "cell_type": "markdown",
   "id": "e407c641-a86d-4a81-9cd3-e278f1a1e727",
   "metadata": {},
   "source": [
    "Group by `signal_date` and hour, then compute averages"
   ]
  },
  {
   "cell_type": "code",
   "execution_count": 11,
   "id": "cc098ffa-bdd7-4691-8cf6-e2448e364be7",
   "metadata": {},
   "outputs": [],
   "source": [
    "grouped = (\n",
    "    df.groupBy(\n",
    "        \"signal_date\",\n",
    "        hour(\"signal_ts\").alias(\"hour_of_day\")\n",
    "    )\n",
    "    .agg(\n",
    "        avg(lv_active_power_col).alias(\"avg_active_power\"),\n",
    "        avg(wind_speed_col).alias(\"avg_wind_speed\"),\n",
    "        avg(theoretical_col).alias(\"avg_theoretical_power_curve\"),\n",
    "        avg(wind_dir_col).alias(\"avg_wind_direction\")\n",
    "    )\n",
    ")"
   ]
  },
  {
   "cell_type": "code",
   "execution_count": 12,
   "id": "71ac5d30-3aee-45b7-a1e7-0e4cadce4334",
   "metadata": {},
   "outputs": [
    {
     "name": "stdout",
     "output_type": "stream",
     "text": [
      "+-----------+-----------+------------------+------------------+---------------------------+------------------+\n",
      "|signal_date|hour_of_day|avg_active_power  |avg_wind_speed    |avg_theoretical_power_curve|avg_wind_direction|\n",
      "+-----------+-----------+------------------+------------------+---------------------------+------------------+\n",
      "|2018-01-04 |23         |789.4284159342433 |6.417605241139726 |783.0409379176934          |26.087587992350205|\n",
      "|2018-03-15 |14         |0.0               |1.9426068266232763|0.0                        |198.64052168528198|\n",
      "|2018-02-23 |8          |0.0               |8.636883974075305 |1946.994138122557          |64.31345494588211 |\n",
      "|2018-03-26 |20         |2629.914794921873 |10.433696746826149|2950.8269442512315         |207.18973286946584|\n",
      "|2018-04-03 |18         |185.30679575602164|4.584054390589391 |240.37376040014553         |50.887859344482365|\n",
      "|2018-02-02 |0          |3602.460367838538 |20.155463218688915|3600.0                     |197.15895334879497|\n",
      "|2018-01-15 |4          |0.0               |6.353489796320594 |754.0327970967259          |73.85050710042314 |\n",
      "|2018-01-21 |15         |3527.467529296873 |13.921771685282335|3600.0                     |177.95908610026   |\n",
      "|2018-01-14 |12         |0.0               |8.70398680369059  |1958.5847292657147         |33.799146970113064|\n",
      "|2018-03-06 |19         |3467.665201822914 |16.243540287017765|3600.0                     |205.3227488199865 |\n",
      "+-----------+-----------+------------------+------------------+---------------------------+------------------+\n",
      "only showing top 10 rows\n",
      "\n"
     ]
    }
   ],
   "source": [
    "grouped.show(10, truncate=False)"
   ]
  },
  {
   "cell_type": "markdown",
   "id": "423ee56c-dc20-4c9d-870c-175ae6f7468c",
   "metadata": {},
   "source": [
    "3) Add `generation_indicator` column based on avg_active_power  \n",
    "If <200 => Low, 200-600 => Medium, 600-1000 => High, >=1000 => Exceptional"
   ]
  },
  {
   "cell_type": "code",
   "execution_count": 13,
   "id": "55e7282d-abb3-4497-af60-4ed6ab0f117c",
   "metadata": {},
   "outputs": [],
   "source": [
    "gen_indicator = (\n",
    "    grouped.withColumn(\n",
    "        \"generation_indicator\",\n",
    "        when(col(\"avg_active_power\") < 200, \"Low\")\n",
    "        .when((col(\"avg_active_power\") >= 200) & (col(\"avg_active_power\") < 600), \"Medium\")\n",
    "        .when((col(\"avg_active_power\") >= 600) & (col(\"avg_active_power\") < 1000), \"High\")\n",
    "        .otherwise(\"Exceptional\")\n",
    "    )\n",
    ")"
   ]
  },
  {
   "cell_type": "code",
   "execution_count": 14,
   "id": "762d920e-df89-479e-b7ff-e81f52329591",
   "metadata": {},
   "outputs": [
    {
     "name": "stdout",
     "output_type": "stream",
     "text": [
      "+-----------+-----------+------------------+------------------+---------------------------+------------------+--------------------+\n",
      "|signal_date|hour_of_day|avg_active_power  |avg_wind_speed    |avg_theoretical_power_curve|avg_wind_direction|generation_indicator|\n",
      "+-----------+-----------+------------------+------------------+---------------------------+------------------+--------------------+\n",
      "|2018-01-04 |23         |789.4284159342433 |6.417605241139726 |783.0409379176934          |26.087587992350205|High                |\n",
      "|2018-03-15 |14         |0.0               |1.9426068266232763|0.0                        |198.64052168528198|Low                 |\n",
      "|2018-02-23 |8          |0.0               |8.636883974075305 |1946.994138122557          |64.31345494588211 |Low                 |\n",
      "|2018-03-26 |20         |2629.914794921873 |10.433696746826149|2950.8269442512315         |207.18973286946584|Exceptional         |\n",
      "|2018-04-03 |18         |185.30679575602164|4.584054390589391 |240.37376040014553         |50.887859344482365|Low                 |\n",
      "|2018-02-02 |0          |3602.460367838538 |20.155463218688915|3600.0                     |197.15895334879497|Exceptional         |\n",
      "|2018-01-15 |4          |0.0               |6.353489796320594 |754.0327970967259          |73.85050710042314 |Low                 |\n",
      "|2018-01-21 |15         |3527.467529296873 |13.921771685282335|3600.0                     |177.95908610026   |Exceptional         |\n",
      "|2018-01-14 |12         |0.0               |8.70398680369059  |1958.5847292657147         |33.799146970113064|Low                 |\n",
      "|2018-03-06 |19         |3467.665201822914 |16.243540287017765|3600.0                     |205.3227488199865 |Exceptional         |\n",
      "+-----------+-----------+------------------+------------------+---------------------------+------------------+--------------------+\n",
      "only showing top 10 rows\n",
      "\n"
     ]
    }
   ],
   "source": [
    "gen_indicator.show(10, truncate=False)"
   ]
  },
  {
   "cell_type": "markdown",
   "id": "4f2525f7-eb15-40a4-bebe-03d187c91d75",
   "metadata": {},
   "source": [
    "4) Create a new DataFrame with JSON-based signal mapping and do broadcast join  \n",
    "This simulates a small lookup table for signal names"
   ]
  },
  {
   "cell_type": "code",
   "execution_count": 15,
   "id": "05a75649-b70b-4a96-90a2-bc0bcf5e8d36",
   "metadata": {},
   "outputs": [],
   "source": [
    "data = [\n",
    "    (\"LV ActivePower (kW)\", \"active_power_average\"),\n",
    "    (\"Wind Speed (m/s)\", \"wind_speed_average\"),\n",
    "    (\"Theoretical_Power_Curve (KWh)\", \"theo_power_curve_average\"),\n",
    "    (\"Wind Direction (°)\", \"wind_direction_average\")\n",
    "]"
   ]
  },
  {
   "cell_type": "code",
   "execution_count": 16,
   "id": "66f1165a-5dac-4dc5-b5b4-214ec9397445",
   "metadata": {},
   "outputs": [],
   "source": [
    "schema = st([\n",
    "    sf(\"sig_name\", srt(), True),\n",
    "    sf(\"sig_mapping_name\", srt(), True)\n",
    "])"
   ]
  },
  {
   "cell_type": "code",
   "execution_count": 23,
   "id": "7715b5c3-04be-4573-86fc-c7ed9dd7f7ba",
   "metadata": {},
   "outputs": [
    {
     "ename": "AttributeError",
     "evalue": "'NoneType' object has no attribute 'sc'",
     "output_type": "error",
     "traceback": [
      "\u001b[0;31m---------------------------------------------------------------------------\u001b[0m",
      "\u001b[0;31mAttributeError\u001b[0m                            Traceback (most recent call last)",
      "Cell \u001b[0;32mIn[23], line 1\u001b[0m\n\u001b[0;32m----> 1\u001b[0m new_df \u001b[38;5;241m=\u001b[39m \u001b[43msprk\u001b[49m\u001b[38;5;241;43m.\u001b[39;49m\u001b[43mcreateDataFrame\u001b[49m\u001b[43m(\u001b[49m\u001b[43mdata\u001b[49m\u001b[43m,\u001b[49m\u001b[43m \u001b[49m\u001b[43mschema\u001b[49m\u001b[43m)\u001b[49m\n",
      "File \u001b[0;32m/opt/bitnami/spark/python/pyspark/sql/session.py:1443\u001b[0m, in \u001b[0;36mSparkSession.createDataFrame\u001b[0;34m(self, data, schema, samplingRatio, verifySchema)\u001b[0m\n\u001b[1;32m   1438\u001b[0m \u001b[38;5;28;01mif\u001b[39;00m has_pandas \u001b[38;5;129;01mand\u001b[39;00m \u001b[38;5;28misinstance\u001b[39m(data, pd\u001b[38;5;241m.\u001b[39mDataFrame):\n\u001b[1;32m   1439\u001b[0m     \u001b[38;5;66;03m# Create a DataFrame from pandas DataFrame.\u001b[39;00m\n\u001b[1;32m   1440\u001b[0m     \u001b[38;5;28;01mreturn\u001b[39;00m \u001b[38;5;28msuper\u001b[39m(SparkSession, \u001b[38;5;28mself\u001b[39m)\u001b[38;5;241m.\u001b[39mcreateDataFrame(  \u001b[38;5;66;03m# type: ignore[call-overload]\u001b[39;00m\n\u001b[1;32m   1441\u001b[0m         data, schema, samplingRatio, verifySchema\n\u001b[1;32m   1442\u001b[0m     )\n\u001b[0;32m-> 1443\u001b[0m \u001b[38;5;28;01mreturn\u001b[39;00m \u001b[38;5;28;43mself\u001b[39;49m\u001b[38;5;241;43m.\u001b[39;49m\u001b[43m_create_dataframe\u001b[49m\u001b[43m(\u001b[49m\n\u001b[1;32m   1444\u001b[0m \u001b[43m    \u001b[49m\u001b[43mdata\u001b[49m\u001b[43m,\u001b[49m\u001b[43m \u001b[49m\u001b[43mschema\u001b[49m\u001b[43m,\u001b[49m\u001b[43m \u001b[49m\u001b[43msamplingRatio\u001b[49m\u001b[43m,\u001b[49m\u001b[43m \u001b[49m\u001b[43mverifySchema\u001b[49m\u001b[43m  \u001b[49m\u001b[38;5;66;43;03m# type: ignore[arg-type]\u001b[39;49;00m\n\u001b[1;32m   1445\u001b[0m \u001b[43m\u001b[49m\u001b[43m)\u001b[49m\n",
      "File \u001b[0;32m/opt/bitnami/spark/python/pyspark/sql/session.py:1485\u001b[0m, in \u001b[0;36mSparkSession._create_dataframe\u001b[0;34m(self, data, schema, samplingRatio, verifySchema)\u001b[0m\n\u001b[1;32m   1483\u001b[0m     rdd, struct \u001b[38;5;241m=\u001b[39m \u001b[38;5;28mself\u001b[39m\u001b[38;5;241m.\u001b[39m_createFromRDD(data\u001b[38;5;241m.\u001b[39mmap(prepare), schema, samplingRatio)\n\u001b[1;32m   1484\u001b[0m \u001b[38;5;28;01melse\u001b[39;00m:\n\u001b[0;32m-> 1485\u001b[0m     rdd, struct \u001b[38;5;241m=\u001b[39m \u001b[38;5;28;43mself\u001b[39;49m\u001b[38;5;241;43m.\u001b[39;49m\u001b[43m_createFromLocal\u001b[49m\u001b[43m(\u001b[49m\u001b[38;5;28;43mmap\u001b[39;49m\u001b[43m(\u001b[49m\u001b[43mprepare\u001b[49m\u001b[43m,\u001b[49m\u001b[43m \u001b[49m\u001b[43mdata\u001b[49m\u001b[43m)\u001b[49m\u001b[43m,\u001b[49m\u001b[43m \u001b[49m\u001b[43mschema\u001b[49m\u001b[43m)\u001b[49m\n\u001b[1;32m   1486\u001b[0m \u001b[38;5;28;01massert\u001b[39;00m \u001b[38;5;28mself\u001b[39m\u001b[38;5;241m.\u001b[39m_jvm \u001b[38;5;129;01mis\u001b[39;00m \u001b[38;5;129;01mnot\u001b[39;00m \u001b[38;5;28;01mNone\u001b[39;00m\n\u001b[1;32m   1487\u001b[0m jrdd \u001b[38;5;241m=\u001b[39m \u001b[38;5;28mself\u001b[39m\u001b[38;5;241m.\u001b[39m_jvm\u001b[38;5;241m.\u001b[39mSerDeUtil\u001b[38;5;241m.\u001b[39mtoJavaArray(rdd\u001b[38;5;241m.\u001b[39m_to_java_object_rdd())\n",
      "File \u001b[0;32m/opt/bitnami/spark/python/pyspark/sql/session.py:1116\u001b[0m, in \u001b[0;36mSparkSession._createFromLocal\u001b[0;34m(self, data, schema)\u001b[0m\n\u001b[1;32m   1114\u001b[0m \u001b[38;5;66;03m# convert python objects to sql data\u001b[39;00m\n\u001b[1;32m   1115\u001b[0m internal_data \u001b[38;5;241m=\u001b[39m [struct\u001b[38;5;241m.\u001b[39mtoInternal(row) \u001b[38;5;28;01mfor\u001b[39;00m row \u001b[38;5;129;01min\u001b[39;00m tupled_data]\n\u001b[0;32m-> 1116\u001b[0m \u001b[38;5;28;01mreturn\u001b[39;00m \u001b[38;5;28;43mself\u001b[39;49m\u001b[38;5;241;43m.\u001b[39;49m\u001b[43m_sc\u001b[49m\u001b[38;5;241;43m.\u001b[39;49m\u001b[43mparallelize\u001b[49m\u001b[43m(\u001b[49m\u001b[43minternal_data\u001b[49m\u001b[43m)\u001b[49m, struct\n",
      "File \u001b[0;32m/opt/bitnami/spark/python/pyspark/context.py:783\u001b[0m, in \u001b[0;36mSparkContext.parallelize\u001b[0;34m(self, c, numSlices)\u001b[0m\n\u001b[1;32m    751\u001b[0m \u001b[38;5;28;01mdef\u001b[39;00m\u001b[38;5;250m \u001b[39m\u001b[38;5;21mparallelize\u001b[39m(\u001b[38;5;28mself\u001b[39m, c: Iterable[T], numSlices: Optional[\u001b[38;5;28mint\u001b[39m] \u001b[38;5;241m=\u001b[39m \u001b[38;5;28;01mNone\u001b[39;00m) \u001b[38;5;241m-\u001b[39m\u001b[38;5;241m>\u001b[39m RDD[T]:\n\u001b[1;32m    752\u001b[0m \u001b[38;5;250m    \u001b[39m\u001b[38;5;124;03m\"\"\"\u001b[39;00m\n\u001b[1;32m    753\u001b[0m \u001b[38;5;124;03m    Distribute a local Python collection to form an RDD. Using range\u001b[39;00m\n\u001b[1;32m    754\u001b[0m \u001b[38;5;124;03m    is recommended if the input represents a range for performance.\u001b[39;00m\n\u001b[0;32m   (...)\u001b[0m\n\u001b[1;32m    781\u001b[0m \u001b[38;5;124;03m    [['a'], ['b', 'c']]\u001b[39;00m\n\u001b[1;32m    782\u001b[0m \u001b[38;5;124;03m    \"\"\"\u001b[39;00m\n\u001b[0;32m--> 783\u001b[0m     numSlices \u001b[38;5;241m=\u001b[39m \u001b[38;5;28mint\u001b[39m(numSlices) \u001b[38;5;28;01mif\u001b[39;00m numSlices \u001b[38;5;129;01mis\u001b[39;00m \u001b[38;5;129;01mnot\u001b[39;00m \u001b[38;5;28;01mNone\u001b[39;00m \u001b[38;5;28;01melse\u001b[39;00m \u001b[38;5;28;43mself\u001b[39;49m\u001b[38;5;241;43m.\u001b[39;49m\u001b[43mdefaultParallelism\u001b[49m\n\u001b[1;32m    784\u001b[0m     \u001b[38;5;28;01mif\u001b[39;00m \u001b[38;5;28misinstance\u001b[39m(c, \u001b[38;5;28mrange\u001b[39m):\n\u001b[1;32m    785\u001b[0m         size \u001b[38;5;241m=\u001b[39m \u001b[38;5;28mlen\u001b[39m(c)\n",
      "File \u001b[0;32m/opt/bitnami/spark/python/pyspark/context.py:630\u001b[0m, in \u001b[0;36mSparkContext.defaultParallelism\u001b[0;34m(self)\u001b[0m\n\u001b[1;32m    618\u001b[0m \u001b[38;5;129m@property\u001b[39m\n\u001b[1;32m    619\u001b[0m \u001b[38;5;28;01mdef\u001b[39;00m\u001b[38;5;250m \u001b[39m\u001b[38;5;21mdefaultParallelism\u001b[39m(\u001b[38;5;28mself\u001b[39m) \u001b[38;5;241m-\u001b[39m\u001b[38;5;241m>\u001b[39m \u001b[38;5;28mint\u001b[39m:\n\u001b[1;32m    620\u001b[0m \u001b[38;5;250m    \u001b[39m\u001b[38;5;124;03m\"\"\"\u001b[39;00m\n\u001b[1;32m    621\u001b[0m \u001b[38;5;124;03m    Default level of parallelism to use when not given by user (e.g. for reduce tasks)\u001b[39;00m\n\u001b[1;32m    622\u001b[0m \n\u001b[0;32m   (...)\u001b[0m\n\u001b[1;32m    628\u001b[0m \u001b[38;5;124;03m    True\u001b[39;00m\n\u001b[1;32m    629\u001b[0m \u001b[38;5;124;03m    \"\"\"\u001b[39;00m\n\u001b[0;32m--> 630\u001b[0m     \u001b[38;5;28;01mreturn\u001b[39;00m \u001b[38;5;28;43mself\u001b[39;49m\u001b[38;5;241;43m.\u001b[39;49m\u001b[43m_jsc\u001b[49m\u001b[38;5;241;43m.\u001b[39;49m\u001b[43msc\u001b[49m()\u001b[38;5;241m.\u001b[39mdefaultParallelism()\n",
      "\u001b[0;31mAttributeError\u001b[0m: 'NoneType' object has no attribute 'sc'"
     ]
    }
   ],
   "source": [
    "new_df = sprk.createDataFrame(data, schema)"
   ]
  },
  {
   "cell_type": "markdown",
   "id": "13308857-250a-47b3-b79c-0f10b99ca4de",
   "metadata": {},
   "source": [
    "Transform columns into a map -> explode it -> join with new_df to rename"
   ]
  },
  {
   "cell_type": "code",
   "execution_count": 18,
   "id": "0826208e-71c6-428b-9f46-c2dd18048e9f",
   "metadata": {},
   "outputs": [],
   "source": [
    "formatted_df = (\n",
    "    gen_indicator\n",
    "    .select(\n",
    "       \"signal_date\",\n",
    "       \"hour_of_day\",\n",
    "       \"generation_indicator\",\n",
    "       create_map(\n",
    "         lit(\"LV ActivePower (kW)\"), col(\"avg_active_power\"),\n",
    "         lit(\"Wind Speed (m/s)\"), col(\"avg_wind_speed\"),\n",
    "         lit(\"Theoretical_Power_Curve (KWh)\"), col(\"avg_theoretical_power_curve\"),\n",
    "         lit(\"Wind Direction (°)\"), col(\"avg_wind_direction\")\n",
    "       ).alias(\"metrics\")\n",
    "    )\n",
    "    .select(\n",
    "       \"signal_date\",\n",
    "       \"hour_of_day\",\n",
    "       \"generation_indicator\",\n",
    "       explode(col(\"metrics\")).alias(\"sig_name\", \"value\")\n",
    "    )\n",
    ")"
   ]
  },
  {
   "cell_type": "markdown",
   "id": "22dc86f8-7715-42d8-a8cf-851dac205998",
   "metadata": {},
   "source": [
    "Perform a broadcast join to replace `sig_name` with `sig_mapping_name`"
   ]
  },
  {
   "cell_type": "code",
   "execution_count": 19,
   "id": "f8164239-5953-4bf2-9bed-aa32d82eebc7",
   "metadata": {},
   "outputs": [],
   "source": [
    "joined_df = (\n",
    "    formatted_df\n",
    "    .join(broadcast(new_df), on=\"sig_name\", how=\"left\")\n",
    "    .select(\n",
    "       \"signal_date\",\n",
    "       \"hour_of_day\",\n",
    "       \"generation_indicator\",\n",
    "       \"sig_name\",\n",
    "       \"sig_mapping_name\",\n",
    "       \"value\"\n",
    "    )\n",
    ")"
   ]
  },
  {
   "cell_type": "code",
   "execution_count": 20,
   "id": "1173eb9d-75c3-45c6-bdb2-e4597125b404",
   "metadata": {
    "scrolled": true
   },
   "outputs": [
    {
     "name": "stdout",
     "output_type": "stream",
     "text": [
      "+-----------+-----------+--------------------+-----------------------------+------------------------+------------------+\n",
      "|signal_date|hour_of_day|generation_indicator|sig_name                     |sig_mapping_name        |value             |\n",
      "+-----------+-----------+--------------------+-----------------------------+------------------------+------------------+\n",
      "|2018-01-04 |23         |High                |LV ActivePower (kW)          |active_power_average    |789.4284159342433 |\n",
      "|2018-01-04 |23         |High                |Wind Speed (m/s)             |wind_speed_average      |6.417605241139726 |\n",
      "|2018-01-04 |23         |High                |Theoretical_Power_Curve (KWh)|theo_power_curve_average|783.0409379176934 |\n",
      "|2018-01-04 |23         |High                |Wind Direction (°)           |wind_direction_average  |26.087587992350205|\n",
      "|2018-03-15 |14         |Low                 |LV ActivePower (kW)          |active_power_average    |0.0               |\n",
      "|2018-03-15 |14         |Low                 |Wind Speed (m/s)             |wind_speed_average      |1.9426068266232763|\n",
      "|2018-03-15 |14         |Low                 |Theoretical_Power_Curve (KWh)|theo_power_curve_average|0.0               |\n",
      "|2018-03-15 |14         |Low                 |Wind Direction (°)           |wind_direction_average  |198.64052168528198|\n",
      "|2018-02-23 |8          |Low                 |LV ActivePower (kW)          |active_power_average    |0.0               |\n",
      "|2018-02-23 |8          |Low                 |Wind Speed (m/s)             |wind_speed_average      |8.636883974075305 |\n",
      "|2018-02-23 |8          |Low                 |Theoretical_Power_Curve (KWh)|theo_power_curve_average|1946.994138122557 |\n",
      "|2018-02-23 |8          |Low                 |Wind Direction (°)           |wind_direction_average  |64.31345494588211 |\n",
      "|2018-03-26 |20         |Exceptional         |LV ActivePower (kW)          |active_power_average    |2629.914794921873 |\n",
      "|2018-03-26 |20         |Exceptional         |Wind Speed (m/s)             |wind_speed_average      |10.433696746826149|\n",
      "|2018-03-26 |20         |Exceptional         |Theoretical_Power_Curve (KWh)|theo_power_curve_average|2950.8269442512315|\n",
      "|2018-03-26 |20         |Exceptional         |Wind Direction (°)           |wind_direction_average  |207.18973286946584|\n",
      "|2018-04-03 |18         |Low                 |LV ActivePower (kW)          |active_power_average    |185.30679575602164|\n",
      "|2018-04-03 |18         |Low                 |Wind Speed (m/s)             |wind_speed_average      |4.584054390589391 |\n",
      "|2018-04-03 |18         |Low                 |Theoretical_Power_Curve (KWh)|theo_power_curve_average|240.37376040014553|\n",
      "|2018-04-03 |18         |Low                 |Wind Direction (°)           |wind_direction_average  |50.887859344482365|\n",
      "+-----------+-----------+--------------------+-----------------------------+------------------------+------------------+\n",
      "only showing top 20 rows\n",
      "\n"
     ]
    }
   ],
   "source": [
    "joined_df.show(20, truncate=False)"
   ]
  },
  {
   "cell_type": "code",
   "execution_count": 21,
   "id": "015015d4-d90f-4975-95e7-f3754e7f54d5",
   "metadata": {},
   "outputs": [],
   "source": [
    "sprk.stop()"
   ]
  }
 ],
 "metadata": {
  "kernelspec": {
   "display_name": "Python 3 (ipykernel)",
   "language": "python",
   "name": "python3"
  },
  "language_info": {
   "codemirror_mode": {
    "name": "ipython",
    "version": 3
   },
   "file_extension": ".py",
   "mimetype": "text/x-python",
   "name": "python",
   "nbconvert_exporter": "python",
   "pygments_lexer": "ipython3",
   "version": "3.12.9"
  }
 },
 "nbformat": 4,
 "nbformat_minor": 5
}
