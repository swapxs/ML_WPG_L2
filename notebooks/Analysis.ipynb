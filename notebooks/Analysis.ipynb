{
 "cells": [
  {
   "cell_type": "code",
   "execution_count": 1,
   "id": "4fa16f3d-bff9-4289-ae81-cb42153756f2",
   "metadata": {},
   "outputs": [],
   "source": [
    "from delta import configure_spark_with_delta_pip\n",
    "from pyspark.sql import SparkSession\n",
    "from pyspark.sql.functions import (\n",
    "    countDistinct,\n",
    "    hour,\n",
    "    avg,\n",
    "    when,\n",
    "    lit,\n",
    "    col,\n",
    "    explode,\n",
    "    create_map,\n",
    "    broadcast\n",
    ")\n",
    "\n",
    "from pyspark.sql.types import (\n",
    "    StructType as st,\n",
    "    StructField as sf,\n",
    "    StringType as srt,\n",
    ")"
   ]
  },
  {
   "cell_type": "markdown",
   "id": "068bd1bc-1500-421a-b664-875be9ffe44d",
   "metadata": {},
   "source": [
    "Create a SparkSession with Delta Lake support:  \n",
    "- Master is set to `spark://spark-master:7077`  \n",
    "- Additional configs enable DeltaLake integration"
   ]
  },
  {
   "cell_type": "code",
   "execution_count": 2,
   "id": "b92c36ac-be53-403e-baab-6383545a5553",
   "metadata": {},
   "outputs": [],
   "source": [
    "builder = (\n",
    "    SparkSession.builder\n",
    "        .appName(\"Analysis\")\n",
    "        .master(\"spark://spark-master:7077\") \n",
    "        .config(\"spark.sql.extensions\", \"io.delta.sql.DeltaSparkSessionExtension\")\n",
    "        .config(\"spark.sql.catalog.spark_catalog\", \"org.apache.spark.sql.delta.catalog.DeltaCatalog\")\n",
    ")"
   ]
  },
  {
   "cell_type": "code",
   "execution_count": 3,
   "id": "739d6430-2510-4e93-ac0f-f3516f58b19e",
   "metadata": {},
   "outputs": [],
   "source": [
    "sprk = configure_spark_with_delta_pip(builder).getOrCreate()\n",
    "sprk.sparkContext.setLogLevel(\"WARN\")"
   ]
  },
  {
   "cell_type": "markdown",
   "id": "287a1a1e-b792-4580-89dc-adca364394c6",
   "metadata": {},
   "source": [
    "Path to the Delta table created by the Kafka subscriber"
   ]
  },
  {
   "cell_type": "code",
   "execution_count": 4,
   "id": "92ffced0-904e-469a-b78c-88b1835450de",
   "metadata": {},
   "outputs": [],
   "source": [
    "fp = \"/data/delta_output\""
   ]
  },
  {
   "cell_type": "markdown",
   "id": "6538cebb-bc6e-4783-8e96-9653efd94bc0",
   "metadata": {},
   "source": [
    "Read the Delta table into a DataFrame"
   ]
  },
  {
   "cell_type": "code",
   "execution_count": 6,
   "id": "6a656700-9d75-4028-a387-aadb61c5802a",
   "metadata": {},
   "outputs": [],
   "source": [
    "df = sprk.read.format(\"delta\").load(fp)"
   ]
  },
  {
   "cell_type": "code",
   "execution_count": 7,
   "id": "9827c85b-cf7b-4707-81e4-0ae47a8a6f88",
   "metadata": {},
   "outputs": [
    {
     "name": "stdout",
     "output_type": "stream",
     "text": [
      "root\n",
      " |-- signal_date: date (nullable = true)\n",
      " |-- signal_ts: timestamp (nullable = true)\n",
      " |-- create_date: date (nullable = true)\n",
      " |-- create_ts: timestamp (nullable = true)\n",
      " |-- signals: map (nullable = true)\n",
      " |    |-- key: string\n",
      " |    |-- value: string (valueContainsNull = true)\n",
      "\n"
     ]
    }
   ],
   "source": [
    "df.printSchema()"
   ]
  },
  {
   "cell_type": "code",
   "execution_count": 8,
   "id": "dff71147-b011-4171-996c-0399f1b71880",
   "metadata": {
    "scrolled": true
   },
   "outputs": [
    {
     "name": "stdout",
     "output_type": "stream",
     "text": [
      "+-----------+-------------------+-----------+-----------------------+--------------------------------------------------------------------------------------------------------------------------------------------------------------------------+\n",
      "|signal_date|signal_ts          |create_date|create_ts              |signals                                                                                                                                                                   |\n",
      "+-----------+-------------------+-----------+-----------------------+--------------------------------------------------------------------------------------------------------------------------------------------------------------------------+\n",
      "|2018-10-27 |2018-10-27 00:40:00|2025-03-26 |2025-03-26 04:33:55.367|{LV ActivePower (kW) -> 2329.56201171875, Wind Speed (m/s) -> 9.68965244293212, Theoretical_Power_Curve (KWh) -> 2583.53686803962, Wind Direction (°) -> 194.844802856445}|\n",
      "|2018-10-27 |2018-10-27 12:20:00|2025-03-26 |2025-03-26 04:33:55.367|{LV ActivePower (kW) -> 1867.58898925781, Wind Speed (m/s) -> 8.76385116577148, Theoretical_Power_Curve (KWh) -> 1993.01062713198, Wind Direction (°) -> 190.564300537109}|\n",
      "|2018-10-28 |2018-10-28 07:10:00|2025-03-26 |2025-03-26 04:33:55.367|{LV ActivePower (kW) -> 3603.462890625, Wind Speed (m/s) -> 13.7323999404907, Theoretical_Power_Curve (KWh) -> 3600.0, Wind Direction (°) -> 199.259002685546}            |\n",
      "|2018-10-30 |2018-10-30 01:30:00|2025-03-26 |2025-03-26 04:33:55.367|{LV ActivePower (kW) -> 198.389099121093, Wind Speed (m/s) -> 4.73016595840454, Theoretical_Power_Curve (KWh) -> 272.372400514445, Wind Direction (°) -> 179.471893310546}|\n",
      "|2018-11-02 |2018-11-02 05:40:00|2025-03-26 |2025-03-26 04:33:55.367|{LV ActivePower (kW) -> 2000.3349609375, Wind Speed (m/s) -> 9.91597270965576, Theoretical_Power_Curve (KWh) -> 2738.73965398887, Wind Direction (°) -> 78.5263595581054} |\n",
      "+-----------+-------------------+-----------+-----------------------+--------------------------------------------------------------------------------------------------------------------------------------------------------------------------+\n",
      "only showing top 5 rows\n",
      "\n"
     ]
    }
   ],
   "source": [
    "df.show(5, truncate=False)"
   ]
  },
  {
   "cell_type": "markdown",
   "id": "6aaf23a0-9af1-41e6-9842-3d4b7533960a",
   "metadata": {},
   "source": [
    "1) Calculate number of distinct `signal_ts` per day"
   ]
  },
  {
   "cell_type": "code",
   "execution_count": 9,
   "id": "d84a0bff-e3d6-4211-a185-2c8e445b4643",
   "metadata": {},
   "outputs": [],
   "source": [
    "dts = (\n",
    "    df.groupBy(\"signal_date\")\n",
    "      .agg(countDistinct(\"signal_ts\").alias(\"distinct_ts_count\"))\n",
    ")"
   ]
  },
  {
   "cell_type": "code",
   "execution_count": 10,
   "id": "0bb0666b-d2bb-413d-b739-1ed2eef9fc2c",
   "metadata": {},
   "outputs": [
    {
     "name": "stdout",
     "output_type": "stream",
     "text": [
      "+-----------+-----------------+\n",
      "|signal_date|distinct_ts_count|\n",
      "+-----------+-----------------+\n",
      "| 2018-08-10|               96|\n",
      "| 2018-05-28|              100|\n",
      "| 2018-06-06|               87|\n",
      "| 2018-03-17|              144|\n",
      "| 2018-09-01|               82|\n",
      "| 2018-08-11|               91|\n",
      "| 2018-11-02|              104|\n",
      "| 2018-06-26|               96|\n",
      "| 2018-08-08|               91|\n",
      "| 2018-09-09|              101|\n",
      "| 2018-10-05|               97|\n",
      "| 2018-06-30|              100|\n",
      "| 2018-11-01|              102|\n",
      "| 2018-05-26|               92|\n",
      "| 2018-09-08|               92|\n",
      "| 2018-03-23|              144|\n",
      "| 2018-08-31|              108|\n",
      "| 2018-04-18|               89|\n",
      "| 2018-01-23|              144|\n",
      "| 2018-02-26|              144|\n",
      "+-----------+-----------------+\n",
      "only showing top 20 rows\n",
      "\n"
     ]
    }
   ],
   "source": [
    "dts.show()"
   ]
  },
  {
   "cell_type": "markdown",
   "id": "2fe6aee0-9831-407e-91e8-3616399792c4",
   "metadata": {},
   "source": [
    "2) Calculate average value of all signals per hour  \n",
    "Extract columns from the `signals` map"
   ]
  },
  {
   "cell_type": "code",
   "execution_count": 11,
   "id": "5cfaa3ca-e675-43b5-8603-cac8d97ef1ab",
   "metadata": {},
   "outputs": [],
   "source": [
    "lv_active_power_col = col(\"signals\")[\"LV ActivePower (kW)\"].cast(\"double\")\n",
    "wind_speed_col      = col(\"signals\")[\"Wind Speed (m/s)\"].cast(\"double\")\n",
    "theoretical_col     = col(\"signals\")[\"Theoretical_Power_Curve (KWh)\"].cast(\"double\")\n",
    "wind_dir_col        = col(\"signals\")[\"Wind Direction (°)\"].cast(\"double\")"
   ]
  },
  {
   "cell_type": "markdown",
   "id": "e407c641-a86d-4a81-9cd3-e278f1a1e727",
   "metadata": {},
   "source": [
    "Group by `signal_date` and hour, then compute averages"
   ]
  },
  {
   "cell_type": "code",
   "execution_count": 12,
   "id": "cc098ffa-bdd7-4691-8cf6-e2448e364be7",
   "metadata": {},
   "outputs": [],
   "source": [
    "grouped = (\n",
    "    df.groupBy(\n",
    "        \"signal_date\",\n",
    "        hour(\"signal_ts\").alias(\"hour_of_day\")\n",
    "    )\n",
    "    .agg(\n",
    "        avg(lv_active_power_col).alias(\"avg_active_power\"),\n",
    "        avg(wind_speed_col).alias(\"avg_wind_speed\"),\n",
    "        avg(theoretical_col).alias(\"avg_theoretical_power_curve\"),\n",
    "        avg(wind_dir_col).alias(\"avg_wind_direction\")\n",
    "    )\n",
    ")"
   ]
  },
  {
   "cell_type": "code",
   "execution_count": 13,
   "id": "71ac5d30-3aee-45b7-a1e7-0e4cadce4334",
   "metadata": {},
   "outputs": [
    {
     "name": "stdout",
     "output_type": "stream",
     "text": [
      "+-----------+-----------+------------------+------------------+---------------------------+------------------+\n",
      "|signal_date|hour_of_day|avg_active_power  |avg_wind_speed    |avg_theoretical_power_curve|avg_wind_direction|\n",
      "+-----------+-----------+------------------+------------------+---------------------------+------------------+\n",
      "|2018-05-04 |23         |0.0               |2.780018746852867 |11.238955820468625         |309.849052429199  |\n",
      "|2018-06-27 |22         |3250.36800130208  |12.156673431396399|3539.962337927693          |233.46033223470033|\n",
      "|2018-11-01 |18         |2637.257226562496 |10.86811008453366 |3212.6447386998707         |71.50665283203122 |\n",
      "|2018-10-17 |18         |603.2187881469723 |6.164311408996578 |685.6376820250624          |59.78288269042962 |\n",
      "|2018-07-14 |17         |1211.8605346679658|7.797745863596593 |1421.5998856059098         |29.295638402302984|\n",
      "|2018-08-26 |15         |194.559397379557  |4.66117095947265  |257.0749616740943          |48.432759602864564|\n",
      "|2018-06-17 |20         |0.0               |2.712337692578627 |6.792619744509767          |323.24951680501266|\n",
      "|2018-06-30 |17         |1245.1505126953075|7.786543011665337 |1413.4520200875797         |245.70095062255825|\n",
      "|2018-10-20 |20         |1167.3462524414049|7.561448574066158 |1292.1870678230523         |45.12568473815912 |\n",
      "|2018-07-08 |19         |545.0446319580072 |6.114912033081049 |676.338266467567           |63.90029335021967 |\n",
      "+-----------+-----------+------------------+------------------+---------------------------+------------------+\n",
      "only showing top 10 rows\n",
      "\n"
     ]
    }
   ],
   "source": [
    "grouped.show(10, truncate=False)"
   ]
  },
  {
   "cell_type": "markdown",
   "id": "423ee56c-dc20-4c9d-870c-175ae6f7468c",
   "metadata": {},
   "source": [
    "3) Add `generation_indicator` column based on avg_active_power  \n",
    "If <200 => Low, 200-600 => Medium, 600-1000 => High, >=1000 => Exceptional"
   ]
  },
  {
   "cell_type": "code",
   "execution_count": 14,
   "id": "55e7282d-abb3-4497-af60-4ed6ab0f117c",
   "metadata": {},
   "outputs": [],
   "source": [
    "gen_indicator = (\n",
    "    grouped.withColumn(\n",
    "        \"generation_indicator\",\n",
    "        when(col(\"avg_active_power\") < 200, \"Low\")\n",
    "        .when((col(\"avg_active_power\") >= 200) & (col(\"avg_active_power\") < 600), \"Medium\")\n",
    "        .when((col(\"avg_active_power\") >= 600) & (col(\"avg_active_power\") < 1000), \"High\")\n",
    "        .otherwise(\"Exceptional\")\n",
    "    )\n",
    ")"
   ]
  },
  {
   "cell_type": "code",
   "execution_count": 15,
   "id": "762d920e-df89-479e-b7ff-e81f52329591",
   "metadata": {},
   "outputs": [
    {
     "name": "stdout",
     "output_type": "stream",
     "text": [
      "+-----------+-----------+------------------+------------------+---------------------------+------------------+--------------------+\n",
      "|signal_date|hour_of_day|avg_active_power  |avg_wind_speed    |avg_theoretical_power_curve|avg_wind_direction|generation_indicator|\n",
      "+-----------+-----------+------------------+------------------+---------------------------+------------------+--------------------+\n",
      "|2018-05-04 |23         |0.0               |2.780018746852867 |11.238955820468625         |309.849052429199  |Low                 |\n",
      "|2018-06-27 |22         |3250.36800130208  |12.156673431396399|3539.962337927693          |233.46033223470033|Exceptional         |\n",
      "|2018-11-01 |18         |2637.257226562496 |10.86811008453366 |3212.6447386998707         |71.50665283203122 |Exceptional         |\n",
      "|2018-10-17 |18         |603.2187881469723 |6.164311408996578 |685.6376820250624          |59.78288269042962 |High                |\n",
      "|2018-07-14 |17         |1211.8605346679658|7.797745863596593 |1421.5998856059098         |29.295638402302984|Exceptional         |\n",
      "|2018-08-26 |15         |194.559397379557  |4.66117095947265  |257.0749616740943          |48.432759602864564|Low                 |\n",
      "|2018-06-17 |20         |0.0               |2.712337692578627 |6.792619744509767          |323.24951680501266|Low                 |\n",
      "|2018-06-30 |17         |1245.1505126953075|7.786543011665337 |1413.4520200875797         |245.70095062255825|Exceptional         |\n",
      "|2018-10-20 |20         |1167.3462524414049|7.561448574066158 |1292.1870678230523         |45.12568473815912 |Exceptional         |\n",
      "|2018-07-08 |19         |545.0446319580072 |6.114912033081049 |676.338266467567           |63.90029335021967 |Medium              |\n",
      "+-----------+-----------+------------------+------------------+---------------------------+------------------+--------------------+\n",
      "only showing top 10 rows\n",
      "\n"
     ]
    }
   ],
   "source": [
    "gen_indicator.show(10, truncate=False)"
   ]
  },
  {
   "cell_type": "markdown",
   "id": "4f2525f7-eb15-40a4-bebe-03d187c91d75",
   "metadata": {},
   "source": [
    "4) Create a new DataFrame with JSON-based signal mapping and do broadcast join  \n",
    "This simulates a small lookup table for signal names"
   ]
  },
  {
   "cell_type": "code",
   "execution_count": 16,
   "id": "05a75649-b70b-4a96-90a2-bc0bcf5e8d36",
   "metadata": {},
   "outputs": [],
   "source": [
    "data = [\n",
    "    (\"LV ActivePower (kW)\", \"active_power_average\"),\n",
    "    (\"Wind Speed (m/s)\", \"wind_speed_average\"),\n",
    "    (\"Theoretical_Power_Curve (KWh)\", \"theo_power_curve_average\"),\n",
    "    (\"Wind Direction (°)\", \"wind_direction_average\")\n",
    "]"
   ]
  },
  {
   "cell_type": "code",
   "execution_count": 17,
   "id": "66f1165a-5dac-4dc5-b5b4-214ec9397445",
   "metadata": {},
   "outputs": [],
   "source": [
    "schema = st([\n",
    "    sf(\"sig_name\", srt(), True),\n",
    "    sf(\"sig_mapping_name\", srt(), True)\n",
    "])"
   ]
  },
  {
   "cell_type": "code",
   "execution_count": 18,
   "id": "7715b5c3-04be-4573-86fc-c7ed9dd7f7ba",
   "metadata": {},
   "outputs": [],
   "source": [
    "new_df = sprk.createDataFrame(data, schema)"
   ]
  },
  {
   "cell_type": "markdown",
   "id": "13308857-250a-47b3-b79c-0f10b99ca4de",
   "metadata": {},
   "source": [
    "Transform columns into a map -> explode it -> join with new_df to rename"
   ]
  },
  {
   "cell_type": "code",
   "execution_count": 19,
   "id": "0826208e-71c6-428b-9f46-c2dd18048e9f",
   "metadata": {},
   "outputs": [],
   "source": [
    "formatted_df = (\n",
    "    gen_indicator\n",
    "    .select(\n",
    "       \"signal_date\",\n",
    "       \"hour_of_day\",\n",
    "       \"generation_indicator\",\n",
    "       create_map(\n",
    "         lit(\"LV ActivePower (kW)\"), col(\"avg_active_power\"),\n",
    "         lit(\"Wind Speed (m/s)\"), col(\"avg_wind_speed\"),\n",
    "         lit(\"Theoretical_Power_Curve (KWh)\"), col(\"avg_theoretical_power_curve\"),\n",
    "         lit(\"Wind Direction (°)\"), col(\"avg_wind_direction\")\n",
    "       ).alias(\"metrics\")\n",
    "    )\n",
    "    .select(\n",
    "       \"signal_date\",\n",
    "       \"hour_of_day\",\n",
    "       \"generation_indicator\",\n",
    "       explode(col(\"metrics\")).alias(\"sig_name\", \"value\")\n",
    "    )\n",
    ")"
   ]
  },
  {
   "cell_type": "markdown",
   "id": "22dc86f8-7715-42d8-a8cf-851dac205998",
   "metadata": {},
   "source": [
    "Perform a broadcast join to replace `sig_name` with `sig_mapping_name`"
   ]
  },
  {
   "cell_type": "code",
   "execution_count": 20,
   "id": "f8164239-5953-4bf2-9bed-aa32d82eebc7",
   "metadata": {},
   "outputs": [],
   "source": [
    "joined_df = (\n",
    "    formatted_df\n",
    "    .join(broadcast(new_df), on=\"sig_name\", how=\"left\")\n",
    "    .select(\n",
    "       \"signal_date\",\n",
    "       \"hour_of_day\",\n",
    "       \"generation_indicator\",\n",
    "       \"sig_name\",\n",
    "       \"sig_mapping_name\",\n",
    "       \"value\"\n",
    "    )\n",
    ")"
   ]
  },
  {
   "cell_type": "code",
   "execution_count": 21,
   "id": "1173eb9d-75c3-45c6-bdb2-e4597125b404",
   "metadata": {
    "scrolled": true
   },
   "outputs": [
    {
     "name": "stdout",
     "output_type": "stream",
     "text": [
      "+-----------+-----------+--------------------+-----------------------------+------------------------+------------------+\n",
      "|signal_date|hour_of_day|generation_indicator|sig_name                     |sig_mapping_name        |value             |\n",
      "+-----------+-----------+--------------------+-----------------------------+------------------------+------------------+\n",
      "|2018-05-04 |23         |Low                 |LV ActivePower (kW)          |active_power_average    |0.0               |\n",
      "|2018-05-04 |23         |Low                 |Wind Speed (m/s)             |wind_speed_average      |2.780018746852867 |\n",
      "|2018-05-04 |23         |Low                 |Theoretical_Power_Curve (KWh)|theo_power_curve_average|11.238955820468625|\n",
      "|2018-05-04 |23         |Low                 |Wind Direction (°)           |wind_direction_average  |309.849052429199  |\n",
      "|2018-06-27 |22         |Exceptional         |LV ActivePower (kW)          |active_power_average    |3250.36800130208  |\n",
      "|2018-06-27 |22         |Exceptional         |Wind Speed (m/s)             |wind_speed_average      |12.156673431396399|\n",
      "|2018-06-27 |22         |Exceptional         |Theoretical_Power_Curve (KWh)|theo_power_curve_average|3539.962337927693 |\n",
      "|2018-06-27 |22         |Exceptional         |Wind Direction (°)           |wind_direction_average  |233.46033223470033|\n",
      "|2018-11-01 |18         |Exceptional         |LV ActivePower (kW)          |active_power_average    |2637.257226562496 |\n",
      "|2018-11-01 |18         |Exceptional         |Wind Speed (m/s)             |wind_speed_average      |10.86811008453366 |\n",
      "|2018-11-01 |18         |Exceptional         |Theoretical_Power_Curve (KWh)|theo_power_curve_average|3212.6447386998707|\n",
      "|2018-11-01 |18         |Exceptional         |Wind Direction (°)           |wind_direction_average  |71.50665283203122 |\n",
      "|2018-10-17 |18         |High                |LV ActivePower (kW)          |active_power_average    |603.2187881469723 |\n",
      "|2018-10-17 |18         |High                |Wind Speed (m/s)             |wind_speed_average      |6.164311408996578 |\n",
      "|2018-10-17 |18         |High                |Theoretical_Power_Curve (KWh)|theo_power_curve_average|685.6376820250624 |\n",
      "|2018-10-17 |18         |High                |Wind Direction (°)           |wind_direction_average  |59.78288269042962 |\n",
      "|2018-07-14 |17         |Exceptional         |LV ActivePower (kW)          |active_power_average    |1211.8605346679658|\n",
      "|2018-07-14 |17         |Exceptional         |Wind Speed (m/s)             |wind_speed_average      |7.797745863596593 |\n",
      "|2018-07-14 |17         |Exceptional         |Theoretical_Power_Curve (KWh)|theo_power_curve_average|1421.5998856059098|\n",
      "|2018-07-14 |17         |Exceptional         |Wind Direction (°)           |wind_direction_average  |29.295638402302984|\n",
      "+-----------+-----------+--------------------+-----------------------------+------------------------+------------------+\n",
      "only showing top 20 rows\n",
      "\n"
     ]
    }
   ],
   "source": [
    "joined_df.show(20, truncate=False)"
   ]
  },
  {
   "cell_type": "code",
   "execution_count": 22,
   "id": "015015d4-d90f-4975-95e7-f3754e7f54d5",
   "metadata": {},
   "outputs": [],
   "source": [
    "sprk.stop()"
   ]
  },
  {
   "cell_type": "code",
   "execution_count": null,
   "id": "ecf6366e-9bd7-4da0-bd80-9a017d3684fe",
   "metadata": {},
   "outputs": [],
   "source": []
  }
 ],
 "metadata": {
  "kernelspec": {
   "display_name": "Python 3 (ipykernel)",
   "language": "python",
   "name": "python3"
  },
  "language_info": {
   "codemirror_mode": {
    "name": "ipython",
    "version": 3
   },
   "file_extension": ".py",
   "mimetype": "text/x-python",
   "name": "python",
   "nbconvert_exporter": "python",
   "pygments_lexer": "ipython3",
   "version": "3.12.9"
  }
 },
 "nbformat": 4,
 "nbformat_minor": 5
}
