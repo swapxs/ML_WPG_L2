{
 "cells": [
  {
   "cell_type": "code",
   "execution_count": 29,
   "id": "4fa16f3d-bff9-4289-ae81-cb42153756f2",
   "metadata": {},
   "outputs": [],
   "source": [
    "from delta import configure_spark_with_delta_pip\n",
    "from pyspark.sql import SparkSession\n",
    "from pyspark.sql.functions import (\n",
    "    countDistinct,\n",
    "    hour,\n",
    "    avg,\n",
    "    when,\n",
    "    lit,\n",
    "    col,\n",
    "    create_map,\n",
    "    explode,\n",
    "    broadcast\n",
    ")\n",
    "\n",
    "from pyspark.sql.types import (\n",
    "    StructType as st,\n",
    "    StructField as sf,\n",
    "    StringType as srt\n",
    ")"
   ]
  },
  {
   "cell_type": "code",
   "execution_count": 2,
   "id": "b92c36ac-be53-403e-baab-6383545a5553",
   "metadata": {},
   "outputs": [],
   "source": [
    "builder = (\n",
    "    SparkSession.builder\n",
    "        .appName(\"Task3-Analysis\")\n",
    "        .master(\"spark://spark-master:7077\") \n",
    "        .config(\"spark.sql.extensions\", \"io.delta.sql.DeltaSparkSessionExtension\")\n",
    "        .config(\"spark.sql.catalog.spark_catalog\", \"org.apache.spark.sql.delta.catalog.DeltaCatalog\")\n",
    ")"
   ]
  },
  {
   "cell_type": "code",
   "execution_count": 3,
   "id": "739d6430-2510-4e93-ac0f-f3516f58b19e",
   "metadata": {},
   "outputs": [],
   "source": [
    "spark = configure_spark_with_delta_pip(builder).getOrCreate()\n",
    "spark.sparkContext.setLogLevel(\"WARN\")"
   ]
  },
  {
   "cell_type": "code",
   "execution_count": 4,
   "id": "92ffced0-904e-469a-b78c-88b1835450de",
   "metadata": {},
   "outputs": [],
   "source": [
    "delta_path = \"/data/delta_output\"  # Adjust if needed"
   ]
  },
  {
   "cell_type": "code",
   "execution_count": 5,
   "id": "6a656700-9d75-4028-a387-aadb61c5802a",
   "metadata": {},
   "outputs": [],
   "source": [
    "df = spark.read.format(\"delta\").load(delta_path)"
   ]
  },
  {
   "cell_type": "code",
   "execution_count": 6,
   "id": "9827c85b-cf7b-4707-81e4-0ae47a8a6f88",
   "metadata": {},
   "outputs": [
    {
     "name": "stdout",
     "output_type": "stream",
     "text": [
      "root\n",
      " |-- signal_date: date (nullable = true)\n",
      " |-- signal_ts: timestamp (nullable = true)\n",
      " |-- create_date: date (nullable = true)\n",
      " |-- create_ts: timestamp (nullable = true)\n",
      " |-- signals: map (nullable = true)\n",
      " |    |-- key: string\n",
      " |    |-- value: string (valueContainsNull = true)\n",
      "\n"
     ]
    }
   ],
   "source": [
    "df.printSchema()"
   ]
  },
  {
   "cell_type": "code",
   "execution_count": 7,
   "id": "dff71147-b011-4171-996c-0399f1b71880",
   "metadata": {
    "scrolled": true
   },
   "outputs": [
    {
     "name": "stdout",
     "output_type": "stream",
     "text": [
      "+-----------+-------------------+-----------+-----------------------+-------------------------------------------------------------------------------------------------------------------------------------------------------------------------+\n",
      "|signal_date|signal_ts          |create_date|create_ts              |signals                                                                                                                                                                  |\n",
      "+-----------+-------------------+-----------+-----------------------+-------------------------------------------------------------------------------------------------------------------------------------------------------------------------+\n",
      "|2018-01-02 |2018-01-02 16:30:00|2025-03-24 |2025-03-24 09:18:12.661|{LV ActivePower (kW) -> 3589.85888671875, Wind Speed (m/s) -> 13.6978597640991, Theoretical_Power_Curve (KWh) -> 3600.0, Wind Direction (°) -> 204.802307128906}         |\n",
      "|2018-01-02 |2018-01-02 22:20:00|2025-03-24 |2025-03-24 09:18:12.661|{LV ActivePower (kW) -> 2362.0, Wind Speed (m/s) -> 9.84492397308349, Theoretical_Power_Curve (KWh) -> 2691.84853250982, Wind Direction (°) -> 190.660400390625}         |\n",
      "|2018-01-03 |2018-01-03 13:10:00|2025-03-24 |2025-03-24 09:18:12.661|{LV ActivePower (kW) -> 452.07861328125, Wind Speed (m/s) -> 5.44924306869506, Theoretical_Power_Curve (KWh) -> 454.516579128293, Wind Direction (°) -> 190.636795043945}|\n",
      "|2018-01-04 |2018-01-04 01:40:00|2025-03-24 |2025-03-24 09:18:12.661|{LV ActivePower (kW) -> 729.487426757812, Wind Speed (m/s) -> 6.14268493652343, Theoretical_Power_Curve (KWh) -> 673.189482795254, Wind Direction (°) -> 190.76170349121}|\n",
      "|2018-01-06 |2018-01-06 00:20:00|2025-03-24 |2025-03-24 09:18:12.661|{LV ActivePower (kW) -> 0.0, Wind Speed (m/s) -> 1.20871698856353, Theoretical_Power_Curve (KWh) -> 0.0, Wind Direction (°) -> 269.748901367187}                         |\n",
      "+-----------+-------------------+-----------+-----------------------+-------------------------------------------------------------------------------------------------------------------------------------------------------------------------+\n",
      "only showing top 5 rows\n",
      "\n"
     ]
    }
   ],
   "source": [
    "df.show(5, truncate=False)"
   ]
  },
  {
   "cell_type": "code",
   "execution_count": 15,
   "id": "d84a0bff-e3d6-4211-a185-2c8e445b4643",
   "metadata": {},
   "outputs": [],
   "source": [
    "daily_distinct_ts = (\n",
    "    df.groupBy(\"signal_date\")\n",
    "      .agg(countDistinct(\"signal_ts\").alias(\"distinct_ts_count\"))\n",
    ")"
   ]
  },
  {
   "cell_type": "code",
   "execution_count": 16,
   "id": "0bb0666b-d2bb-413d-b739-1ed2eef9fc2c",
   "metadata": {},
   "outputs": [
    {
     "name": "stdout",
     "output_type": "stream",
     "text": [
      "+-----------+-----------------+\n",
      "|signal_date|distinct_ts_count|\n",
      "+-----------+-----------------+\n",
      "| 2018-01-11|              144|\n",
      "| 2018-01-08|              144|\n",
      "| 2018-01-14|               90|\n",
      "| 2018-01-13|              144|\n",
      "| 2018-01-05|              144|\n",
      "| 2018-01-12|              143|\n",
      "| 2018-01-04|              127|\n",
      "| 2018-01-02|              144|\n",
      "| 2018-01-03|              144|\n",
      "| 2018-01-09|              144|\n",
      "| 2018-01-06|              140|\n",
      "| 2018-01-01|              144|\n",
      "| 2018-01-07|              144|\n",
      "| 2018-01-10|              144|\n",
      "+-----------+-----------------+\n",
      "\n"
     ]
    }
   ],
   "source": [
    "daily_distinct_ts.show()"
   ]
  },
  {
   "cell_type": "code",
   "execution_count": 17,
   "id": "5cfaa3ca-e675-43b5-8603-cac8d97ef1ab",
   "metadata": {},
   "outputs": [],
   "source": [
    "lv_active_power_col = col(\"signals\")[\"LV ActivePower (kW)\"].cast(\"double\")\n",
    "wind_speed_col      = col(\"signals\")[\"Wind Speed (m/s)\"].cast(\"double\")\n",
    "theoretical_col     = col(\"signals\")[\"Theoretical_Power_Curve (KWh)\"].cast(\"double\")\n",
    "wind_dir_col        = col(\"signals\")[\"Wind Direction (°)\"].cast(\"double\")"
   ]
  },
  {
   "cell_type": "code",
   "execution_count": 18,
   "id": "cc098ffa-bdd7-4691-8cf6-e2448e364be7",
   "metadata": {},
   "outputs": [],
   "source": [
    "grouped = (\n",
    "    df.groupBy(\n",
    "        \"signal_date\",\n",
    "        hour(\"signal_ts\").alias(\"hour_of_day\")\n",
    "    )\n",
    "    .agg(\n",
    "        avg(lv_active_power_col).alias(\"avg_active_power\"),\n",
    "        avg(wind_speed_col).alias(\"avg_wind_speed\"),\n",
    "        avg(theoretical_col).alias(\"avg_theoretical_power_curve\"),\n",
    "        avg(wind_dir_col).alias(\"avg_wind_direction\")\n",
    "    )\n",
    ")"
   ]
  },
  {
   "cell_type": "code",
   "execution_count": 19,
   "id": "71ac5d30-3aee-45b7-a1e7-0e4cadce4334",
   "metadata": {},
   "outputs": [
    {
     "name": "stdout",
     "output_type": "stream",
     "text": [
      "+-----------+-----------+------------------+------------------+---------------------------+------------------+\n",
      "|signal_date|hour_of_day|avg_active_power  |avg_wind_speed    |avg_theoretical_power_curve|avg_wind_direction|\n",
      "+-----------+-----------+------------------+------------------+---------------------------+------------------+\n",
      "|2018-01-04 |23         |789.4284159342433 |6.417605241139726 |783.0409379176934          |26.087587992350205|\n",
      "|2018-01-14 |12         |0.0               |8.70398680369059  |1958.5847292657147         |33.799146970113064|\n",
      "|2018-01-01 |20         |3205.9163411458317|11.479263305664015|3406.212312613832          |197.523200988769  |\n",
      "|2018-01-12 |21         |306.1325632731113 |4.951312621434526 |324.8236997973515          |65.52038892110185 |\n",
      "|2018-01-09 |13         |210.1709823608395 |4.615528742472325 |248.0416888358253          |70.92443339029946 |\n",
      "|2018-01-09 |3          |185.00654856363883|4.491092522939043 |225.67291365344818         |268.2254028320307 |\n",
      "|2018-01-01 |5          |1149.5991617838483|7.236853679021195 |1128.194440575686          |243.8463490804032 |\n",
      "|2018-01-09 |21         |886.671457926432  |5.837819099426266 |574.2517144255736          |91.73164621988921 |\n",
      "|2018-01-07 |9          |2726.008300781245 |10.19272661209105 |2864.7942765586286         |205.66890207926386|\n",
      "|2018-01-11 |9          |492.43359374999915|8.851770083109484 |2594.508735505347          |111.23561859130832|\n",
      "+-----------+-----------+------------------+------------------+---------------------------+------------------+\n",
      "only showing top 10 rows\n",
      "\n"
     ]
    }
   ],
   "source": [
    "grouped.show(10, truncate=False)"
   ]
  },
  {
   "cell_type": "code",
   "execution_count": 20,
   "id": "55e7282d-abb3-4497-af60-4ed6ab0f117c",
   "metadata": {},
   "outputs": [],
   "source": [
    "gen_indicator_df = (\n",
    "    grouped.withColumn(\n",
    "        \"generation_indicator\",\n",
    "        when(col(\"avg_active_power\") < 200, \"Low\")\n",
    "        .when((col(\"avg_active_power\") >= 200) & (col(\"avg_active_power\") < 600), \"Medium\")\n",
    "        .when((col(\"avg_active_power\") >= 600) & (col(\"avg_active_power\") < 1000), \"High\")\n",
    "        .otherwise(\"Exceptional\")\n",
    "    )\n",
    ")"
   ]
  },
  {
   "cell_type": "code",
   "execution_count": 21,
   "id": "762d920e-df89-479e-b7ff-e81f52329591",
   "metadata": {},
   "outputs": [
    {
     "name": "stdout",
     "output_type": "stream",
     "text": [
      "+-----------+-----------+------------------+------------------+---------------------------+------------------+--------------------+\n",
      "|signal_date|hour_of_day|avg_active_power  |avg_wind_speed    |avg_theoretical_power_curve|avg_wind_direction|generation_indicator|\n",
      "+-----------+-----------+------------------+------------------+---------------------------+------------------+--------------------+\n",
      "|2018-01-04 |23         |789.4284159342433 |6.417605241139726 |783.0409379176934          |26.087587992350205|High                |\n",
      "|2018-01-14 |12         |0.0               |8.70398680369059  |1958.5847292657147         |33.799146970113064|Low                 |\n",
      "|2018-01-01 |20         |3205.9163411458317|11.479263305664015|3406.212312613832          |197.523200988769  |Exceptional         |\n",
      "|2018-01-12 |21         |306.1325632731113 |4.951312621434526 |324.8236997973515          |65.52038892110185 |Medium              |\n",
      "|2018-01-09 |13         |210.1709823608395 |4.615528742472325 |248.0416888358253          |70.92443339029946 |Medium              |\n",
      "|2018-01-09 |3          |185.00654856363883|4.491092522939043 |225.67291365344818         |268.2254028320307 |Low                 |\n",
      "|2018-01-01 |5          |1149.5991617838483|7.236853679021195 |1128.194440575686          |243.8463490804032 |Exceptional         |\n",
      "|2018-01-09 |21         |886.671457926432  |5.837819099426266 |574.2517144255736          |91.73164621988921 |High                |\n",
      "|2018-01-07 |9          |2726.008300781245 |10.19272661209105 |2864.7942765586286         |205.66890207926386|Exceptional         |\n",
      "|2018-01-11 |9          |492.43359374999915|8.851770083109484 |2594.508735505347          |111.23561859130832|Medium              |\n",
      "+-----------+-----------+------------------+------------------+---------------------------+------------------+--------------------+\n",
      "only showing top 10 rows\n",
      "\n"
     ]
    }
   ],
   "source": [
    "gen_indicator_df.show(10, truncate=False)"
   ]
  },
  {
   "cell_type": "code",
   "execution_count": 22,
   "id": "05a75649-b70b-4a96-90a2-bc0bcf5e8d36",
   "metadata": {},
   "outputs": [],
   "source": [
    "mapping_data = [\n",
    "    (\"LV ActivePower (kW)\", \"active_power_average\"),\n",
    "    (\"Wind Speed (m/s)\", \"wind_speed_average\"),\n",
    "    (\"Theoretical_Power_Curve (KWh)\", \"theo_power_curve_average\"),\n",
    "    (\"Wind Direction (°)\", \"wind_direction_average\")\n",
    "]"
   ]
  },
  {
   "cell_type": "code",
   "execution_count": 23,
   "id": "66f1165a-5dac-4dc5-b5b4-214ec9397445",
   "metadata": {},
   "outputs": [],
   "source": [
    "mapping_schema = st([\n",
    "    sf(\"sig_name\", srt(), True),\n",
    "    sf(\"sig_mapping_name\", srt(), True)\n",
    "])"
   ]
  },
  {
   "cell_type": "code",
   "execution_count": 24,
   "id": "7715b5c3-04be-4573-86fc-c7ed9dd7f7ba",
   "metadata": {},
   "outputs": [],
   "source": [
    "mapping_df = spark.createDataFrame(mapping_data, mapping_schema)"
   ]
  },
  {
   "cell_type": "code",
   "execution_count": 27,
   "id": "0826208e-71c6-428b-9f46-c2dd18048e9f",
   "metadata": {},
   "outputs": [],
   "source": [
    "long_format_df = (\n",
    "    gen_indicator_df\n",
    "    .select(\n",
    "       \"signal_date\",\n",
    "       \"hour_of_day\",\n",
    "       \"generation_indicator\",\n",
    "       create_map(\n",
    "         lit(\"LV ActivePower (kW)\"), col(\"avg_active_power\"),\n",
    "         lit(\"Wind Speed (m/s)\"), col(\"avg_wind_speed\"),\n",
    "         lit(\"Theoretical_Power_Curve (KWh)\"), col(\"avg_theoretical_power_curve\"),\n",
    "         lit(\"Wind Direction (°)\"), col(\"avg_wind_direction\")\n",
    "       ).alias(\"metrics\")\n",
    "    )\n",
    "    # 'explode' transforms the map into key-value pairs\n",
    "    .select(\n",
    "       \"signal_date\",\n",
    "       \"hour_of_day\",\n",
    "       \"generation_indicator\",\n",
    "       explode(col(\"metrics\")).alias(\"sig_name\", \"value\")\n",
    "    )\n",
    ")"
   ]
  },
  {
   "cell_type": "code",
   "execution_count": 30,
   "id": "f8164239-5953-4bf2-9bed-aa32d82eebc7",
   "metadata": {},
   "outputs": [],
   "source": [
    "joined_df = (\n",
    "    long_format_df\n",
    "    .join(broadcast(mapping_df), on=\"sig_name\", how=\"left\")\n",
    "    .select(\n",
    "       \"signal_date\",\n",
    "       \"hour_of_day\",\n",
    "       \"generation_indicator\",\n",
    "       \"sig_name\",\n",
    "       \"sig_mapping_name\",\n",
    "       \"value\"\n",
    "    )\n",
    ")"
   ]
  },
  {
   "cell_type": "code",
   "execution_count": 32,
   "id": "1173eb9d-75c3-45c6-bdb2-e4597125b404",
   "metadata": {},
   "outputs": [
    {
     "name": "stdout",
     "output_type": "stream",
     "text": [
      "+-----------+-----------+--------------------+-----------------------------+------------------------+------------------+\n",
      "|signal_date|hour_of_day|generation_indicator|sig_name                     |sig_mapping_name        |value             |\n",
      "+-----------+-----------+--------------------+-----------------------------+------------------------+------------------+\n",
      "|2018-01-04 |23         |High                |LV ActivePower (kW)          |active_power_average    |789.4284159342433 |\n",
      "|2018-01-04 |23         |High                |Wind Speed (m/s)             |wind_speed_average      |6.417605241139726 |\n",
      "|2018-01-04 |23         |High                |Theoretical_Power_Curve (KWh)|theo_power_curve_average|783.0409379176934 |\n",
      "|2018-01-04 |23         |High                |Wind Direction (°)           |wind_direction_average  |26.087587992350205|\n",
      "|2018-01-14 |12         |Low                 |LV ActivePower (kW)          |active_power_average    |0.0               |\n",
      "|2018-01-14 |12         |Low                 |Wind Speed (m/s)             |wind_speed_average      |8.70398680369059  |\n",
      "|2018-01-14 |12         |Low                 |Theoretical_Power_Curve (KWh)|theo_power_curve_average|1958.5847292657147|\n",
      "|2018-01-14 |12         |Low                 |Wind Direction (°)           |wind_direction_average  |33.799146970113064|\n",
      "|2018-01-01 |20         |Exceptional         |LV ActivePower (kW)          |active_power_average    |3205.9163411458317|\n",
      "|2018-01-01 |20         |Exceptional         |Wind Speed (m/s)             |wind_speed_average      |11.479263305664015|\n",
      "|2018-01-01 |20         |Exceptional         |Theoretical_Power_Curve (KWh)|theo_power_curve_average|3406.212312613832 |\n",
      "|2018-01-01 |20         |Exceptional         |Wind Direction (°)           |wind_direction_average  |197.523200988769  |\n",
      "|2018-01-12 |21         |Medium              |LV ActivePower (kW)          |active_power_average    |306.1325632731113 |\n",
      "|2018-01-12 |21         |Medium              |Wind Speed (m/s)             |wind_speed_average      |4.951312621434526 |\n",
      "|2018-01-12 |21         |Medium              |Theoretical_Power_Curve (KWh)|theo_power_curve_average|324.8236997973515 |\n",
      "|2018-01-12 |21         |Medium              |Wind Direction (°)           |wind_direction_average  |65.52038892110185 |\n",
      "|2018-01-09 |13         |Medium              |LV ActivePower (kW)          |active_power_average    |210.1709823608395 |\n",
      "|2018-01-09 |13         |Medium              |Wind Speed (m/s)             |wind_speed_average      |4.615528742472325 |\n",
      "|2018-01-09 |13         |Medium              |Theoretical_Power_Curve (KWh)|theo_power_curve_average|248.0416888358253 |\n",
      "|2018-01-09 |13         |Medium              |Wind Direction (°)           |wind_direction_average  |70.92443339029946 |\n",
      "+-----------+-----------+--------------------+-----------------------------+------------------------+------------------+\n",
      "only showing top 20 rows\n",
      "\n"
     ]
    }
   ],
   "source": [
    "joined_df.show(20, truncate=False)"
   ]
  },
  {
   "cell_type": "code",
   "execution_count": 33,
   "id": "015015d4-d90f-4975-95e7-f3754e7f54d5",
   "metadata": {},
   "outputs": [],
   "source": [
    "spark.stop()"
   ]
  },
  {
   "cell_type": "code",
   "execution_count": null,
   "id": "b5324b72-fad9-4e58-8cf5-5153d722046f",
   "metadata": {},
   "outputs": [],
   "source": []
  }
 ],
 "metadata": {
  "kernelspec": {
   "display_name": "Python 3 (ipykernel)",
   "language": "python",
   "name": "python3"
  },
  "language_info": {
   "codemirror_mode": {
    "name": "ipython",
    "version": 3
   },
   "file_extension": ".py",
   "mimetype": "text/x-python",
   "name": "python",
   "nbconvert_exporter": "python",
   "pygments_lexer": "ipython3",
   "version": "3.12.9"
  }
 },
 "nbformat": 4,
 "nbformat_minor": 5
}
