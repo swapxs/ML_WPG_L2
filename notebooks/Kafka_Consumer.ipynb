{
 "cells": [
  {
   "cell_type": "code",
   "execution_count": 1,
   "id": "7a28580a-c002-4015-ac08-692a09edfcf7",
   "metadata": {},
   "outputs": [],
   "source": [
    "from pyspark.sql import SparkSession as ss\n",
    "from pyspark.sql.types import (\n",
    "    StructType as st,\n",
    "    StructField as sf,\n",
    "    StringType as strt,\n",
    "    DoubleType as dt,\n",
    "    LongType as lt\n",
    ")\n",
    "from pyspark.sql.functions import (\n",
    "    from_json,\n",
    "    col,\n",
    "    to_date,\n",
    "    to_timestamp,\n",
    "    current_date,\n",
    "    current_timestamp,\n",
    "    lit,\n",
    "    map_from_arrays,\n",
    "    array\n",
    ")"
   ]
  },
  {
   "cell_type": "code",
   "execution_count": 2,
   "id": "9e8e56db-a4ab-4099-b477-7119af4b1337",
   "metadata": {},
   "outputs": [],
   "source": [
    "spark = ss.builder \\\n",
    "    .appName(\"KafkaSubscriberBoundedOnce\") \\\n",
    "    .master(\"spark://spark-master:7077\") \\\n",
    "    .config(\n",
    "        \"spark.jars.packages\", \n",
    "        \"org.apache.spark:spark-sql-kafka-0-10_2.12:3.5.5,\"  # Kafka connector\n",
    "        \"io.delta:delta-spark_2.12:3.3.0\"                     # Delta Lake\n",
    "    ) \\\n",
    "    .config(\"spark.jars.repositories\", \"https://repos.spark-packages.org\") \\\n",
    "    .config(\"spark.sql.extensions\", \"io.delta.sql.DeltaSparkSessionExtension\") \\\n",
    "    .config(\"spark.sql.catalog.spark_catalog\", \"org.apache.spark.sql.delta.catalog.DeltaCatalog\") \\\n",
    "    .getOrCreate()\n",
    "\n",
    "spark.sparkContext.setLogLevel(\"WARN\")"
   ]
  },
  {
   "cell_type": "code",
   "execution_count": 3,
   "id": "bfa89ca3-4c84-49dd-a0e6-6698a08304bb",
   "metadata": {},
   "outputs": [],
   "source": [
    "json_schema = st([\n",
    "    sf(\"Date/Time\", strt(), True),\n",
    "    sf(\"LV ActivePower (kW)\", dt(), True),\n",
    "    sf(\"Wind Speed (m/s)\", dt(), True),\n",
    "    sf(\"Theoretical_Power_Curve (KWh)\", dt(), True),\n",
    "    sf(\"Wind Direction (°)\", dt(), True),\n",
    "    sf(\"row_id\", lt(), True)\n",
    "])"
   ]
  },
  {
   "cell_type": "code",
   "execution_count": 4,
   "id": "ac120d09-c8cf-4d40-9b94-044b1b53ca3f",
   "metadata": {},
   "outputs": [],
   "source": [
    "kafka_df = spark.readStream \\\n",
    "    .format(\"kafka\") \\\n",
    "    .option(\"kafka.bootstrap.servers\", \"kafka:9092\") \\\n",
    "    .option(\"subscribe\", \"xenon-topic\") \\\n",
    "    .option(\"startingOffsets\", \"earliest\") \\\n",
    "    .load()\n",
    "\n",
    "df = kafka_df.select(\n",
    "    from_json(\n",
    "        col(\"value\").cast(\"string\"),\n",
    "        json_schema\n",
    "    ).alias(\"jsonData\")\n",
    ").select(\"jsonData.*\")"
   ]
  },
  {
   "cell_type": "code",
   "execution_count": 5,
   "id": "81bc65c2-d2c5-4dd0-9c0e-26e20eaa7449",
   "metadata": {},
   "outputs": [],
   "source": [
    "final_df = df.select(\n",
    "    to_date(\n",
    "        to_timestamp(col(\"Date/Time\"), \"dd MM yyyy HH:mm\"),\n",
    "        \"yyyy-MM-dd\"\n",
    "    ).alias(\"signal_date\"),\n",
    "    to_timestamp(col(\"Date/Time\"), \"dd MM yyyy HH:mm\").alias(\"signal_ts\"),\n",
    "    current_date().alias(\"create_date\"),\n",
    "    current_timestamp().alias(\"create_ts\"),\n",
    "    map_from_arrays(\n",
    "        array(\n",
    "            lit(\"LV ActivePower (kW)\"),\n",
    "            lit(\"Wind Speed (m/s)\"),\n",
    "            lit(\"Theoretical_Power_Curve (KWh)\"),\n",
    "            lit(\"Wind Direction (°)\")\n",
    "        ),\n",
    "        array(\n",
    "            col(\"LV ActivePower (kW)\").cast(\"string\"),\n",
    "            col(\"Wind Speed (m/s)\").cast(\"string\"),\n",
    "            col(\"Theoretical_Power_Curve (KWh)\").cast(\"string\"),\n",
    "            col(\"Wind Direction (°)\").cast(\"string\")\n",
    "        )\n",
    "    ).alias(\"signals\")\n",
    ")"
   ]
  },
  {
   "cell_type": "code",
   "execution_count": 6,
   "id": "89a55182-90da-402f-8cf8-992ddb08499e",
   "metadata": {},
   "outputs": [
    {
     "name": "stdout",
     "output_type": "stream",
     "text": [
      "Reading from Kafka topic (bounded), writing to Delta, then stopping...\n"
     ]
    }
   ],
   "source": [
    "checkpoint_dir = \"/tmp/delta_kafka_subscriber_checkpoint\"\n",
    "delta_output_path = \"/data/delta_output\"\n",
    "\n",
    "query = final_df.writeStream \\\n",
    "    .format(\"delta\") \\\n",
    "    .option(\"checkpointLocation\", checkpoint_dir) \\\n",
    "    .outputMode(\"append\") \\\n",
    "    .trigger(once=True) \\\n",
    "    .start(delta_output_path)\n",
    "\n",
    "print(\"Reading from Kafka topic (bounded), writing to Delta, then stopping...\")\n",
    "query.awaitTermination()\n",
    "\n",
    "spark.stop()"
   ]
  },
  {
   "cell_type": "markdown",
   "id": "8daad696-a2b9-46ee-b017-f1e7776cc406",
   "metadata": {},
   "source": [
    "# Checking the data"
   ]
  },
  {
   "cell_type": "code",
   "execution_count": 7,
   "id": "d319dd66-27e5-4e19-98e8-8f58f6f5a2ef",
   "metadata": {},
   "outputs": [
    {
     "name": "stdout",
     "output_type": "stream",
     "text": [
      "+-----------+-------------------+-----------+-----------------------+--------------------------------------------------------------------------------------------------------------------------------------------------------------------------+\n",
      "|signal_date|signal_ts          |create_date|create_ts              |signals                                                                                                                                                                   |\n",
      "+-----------+-------------------+-----------+-----------------------+--------------------------------------------------------------------------------------------------------------------------------------------------------------------------+\n",
      "|2018-01-01 |2018-01-01 04:20:00|2025-03-24 |2025-03-24 04:21:11.287|{LV ActivePower (kW) -> 1636.93505859375, Wind Speed (m/s) -> 8.23695755004882, Theoretical_Power_Curve (KWh) -> 1668.47070685152, Wind Direction (°) -> 247.979400634765}|\n",
      "|2018-01-01 |2018-01-01 03:10:00|2025-03-24 |2025-03-24 04:21:11.287|{LV ActivePower (kW) -> 787.246215820312, Wind Speed (m/s) -> 6.43753099441528, Theoretical_Power_Curve (KWh) -> 781.7712157188, Wind Direction (°) -> 257.56021118164}   |\n",
      "|2018-01-01 |2018-01-01 10:50:00|2025-03-24 |2025-03-24 04:21:11.287|{LV ActivePower (kW) -> 230.05549621582, Wind Speed (m/s) -> 4.60387516021728, Theoretical_Power_Curve (KWh) -> 244.31624421611, Wind Direction (°) -> 231.79849243164}   |\n",
      "|2018-01-01 |2018-01-01 00:00:00|2025-03-24 |2025-03-24 04:21:11.287|{LV ActivePower (kW) -> 380.047790527343, Wind Speed (m/s) -> 5.31133604049682, Theoretical_Power_Curve (KWh) -> 416.328907824861, Wind Direction (°) -> 259.994903564453}|\n",
      "|2018-01-01 |2018-01-01 09:00:00|2025-03-24 |2025-03-24 04:21:11.287|{LV ActivePower (kW) -> 725.868103027343, Wind Speed (m/s) -> 6.19436883926391, Theoretical_Power_Curve (KWh) -> 691.546334303948, Wind Direction (°) -> 199.848495483398}|\n",
      "+-----------+-------------------+-----------+-----------------------+--------------------------------------------------------------------------------------------------------------------------------------------------------------------------+\n",
      "only showing top 5 rows\n",
      "\n"
     ]
    }
   ],
   "source": [
    "from delta import configure_spark_with_delta_pip\n",
    "from pyspark.sql import SparkSession\n",
    "\n",
    "builder = SparkSession.builder \\\n",
    "    .appName(\"DeltaTest\") \\\n",
    "    .master(\"spark://spark-master:7077\") \\\n",
    "    .config(\"spark.sql.extensions\", \"io.delta.sql.DeltaSparkSessionExtension\") \\\n",
    "    .config(\"spark.sql.catalog.spark_catalog\", \"org.apache.spark.sql.delta.catalog.DeltaCatalog\")\n",
    "\n",
    "spark = configure_spark_with_delta_pip(builder).getOrCreate()\n",
    "\n",
    "df = spark.read.format(\"delta\").load(\"/data/delta_output\")\n",
    "df.show(5, truncate=False)"
   ]
  },
  {
   "cell_type": "code",
   "execution_count": null,
   "id": "708858fe-3fe4-4856-ae49-0b9b5217b104",
   "metadata": {},
   "outputs": [],
   "source": []
  }
 ],
 "metadata": {
  "kernelspec": {
   "display_name": "Python 3 (ipykernel)",
   "language": "python",
   "name": "python3"
  },
  "language_info": {
   "codemirror_mode": {
    "name": "ipython",
    "version": 3
   },
   "file_extension": ".py",
   "mimetype": "text/x-python",
   "name": "python",
   "nbconvert_exporter": "python",
   "pygments_lexer": "ipython3",
   "version": "3.12.9"
  }
 },
 "nbformat": 4,
 "nbformat_minor": 5
}
