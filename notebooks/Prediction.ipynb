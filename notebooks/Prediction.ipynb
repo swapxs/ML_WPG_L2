{
 "cells": [
  {
   "cell_type": "code",
   "execution_count": 1,
   "id": "5afab056-651f-4147-b295-f37b0ba62f83",
   "metadata": {},
   "outputs": [],
   "source": [
    "from delta import configure_spark_with_delta_pip\n",
    "from pyspark.sql import SparkSession as ss\n",
    "from pyspark.sql.functions import col\n",
    "from pyspark.ml.feature import VectorAssembler as va\n",
    "from pyspark.ml.regression import LinearRegression as lreg\n",
    "from pyspark.ml.evaluation import RegressionEvaluator as re"
   ]
  },
  {
   "cell_type": "markdown",
   "id": "a191a168-321e-4aca-a4a4-3bd711dff19d",
   "metadata": {},
   "source": [
    "```\n",
    "------------------------------------------------------------------------------\n",
    "1. Initialize SparkSession (with Delta support)\n",
    "------------------------------------------------------------------------------\n",
    "```\n",
    "\n",
    "Configure Spark to handle Delta Lake"
   ]
  },
  {
   "cell_type": "code",
   "execution_count": 2,
   "id": "8918a7ba-4aef-47e3-9c2c-1229d6043c1d",
   "metadata": {},
   "outputs": [],
   "source": [
    "builder = (\n",
    "    ss.builder\n",
    "        .appName(\"WindPowerPrediction\")\n",
    "        .master(\"spark://spark-master:7077\")\n",
    "        .config(\"spark.sql.extensions\", \"io.delta.sql.DeltaSparkSessionExtension\")\n",
    "        .config(\"spark.sql.catalog.spark_catalog\", \"org.apache.spark.sql.delta.catalog.DeltaCatalog\")\n",
    ")"
   ]
  },
  {
   "cell_type": "code",
   "execution_count": 3,
   "id": "698141e0-506c-40c7-bc97-6eac5871569a",
   "metadata": {},
   "outputs": [],
   "source": [
    "sprk = configure_spark_with_delta_pip(builder).getOrCreate()"
   ]
  },
  {
   "cell_type": "markdown",
   "id": "72ca0829-f123-4f7a-98dd-6d9ebbdd42a7",
   "metadata": {},
   "source": [
    "```\n",
    "------------------------------------------------------------------------------\n",
    "2. Read the Delta table\n",
    "------------------------------------------------------------------------------\n",
    "```\n",
    "\n",
    "Path where Kafka Subscriber wrote Delta data"
   ]
  },
  {
   "cell_type": "code",
   "execution_count": 4,
   "id": "67740e35-bab9-4e94-ae34-287810200926",
   "metadata": {},
   "outputs": [],
   "source": [
    "fp = \"/data/delta_output\""
   ]
  },
  {
   "cell_type": "code",
   "execution_count": 5,
   "id": "1d3b10fc-1172-4cfe-9c4a-7833f540722d",
   "metadata": {},
   "outputs": [],
   "source": [
    "df = sprk.read.format(\"delta\").load(fp)"
   ]
  },
  {
   "cell_type": "markdown",
   "id": "5c8e6691-a45d-4098-b5e0-20f7a78f826b",
   "metadata": {},
   "source": [
    "The `signals` column is a map that includes:  \n",
    "\"LV ActivePower (kW)\", \"Wind Speed (m/s)\", etc.\n",
    "\n",
    "```\n",
    "------------------------------------------------------------------------------\n",
    "3. Extract numeric columns from `signals` MapType\n",
    "------------------------------------------------------------------------------\n",
    "```"
   ]
  },
  {
   "cell_type": "code",
   "execution_count": 6,
   "id": "d8337f32-d855-4fa8-9566-f69fee4678b2",
   "metadata": {},
   "outputs": [],
   "source": [
    "df = df.withColumn(\"active_power\", col(\"signals\")[\"LV ActivePower (kW)\"].cast(\"double\")) \\\n",
    "        .withColumn(\"wind_speed\", col(\"signals\")[\"Wind Speed (m/s)\"].cast(\"double\")) \\\n",
    "        .withColumn(\"theoretical_curve\", col(\"signals\")[\"Theoretical_Power_Curve (KWh)\"].cast(\"double\")) \\\n",
    "        .withColumn(\"wind_direction\", col(\"signals\")[\"Wind Direction (°)\"].cast(\"double\"))"
   ]
  },
  {
   "cell_type": "markdown",
   "id": "19d04fa0-5949-4050-89b9-d04921f40b78",
   "metadata": {},
   "source": [
    "Drop rows with nulls in critical columns we need"
   ]
  },
  {
   "cell_type": "code",
   "execution_count": 7,
   "id": "2b9055f0-44d6-4275-b98f-d75fc4b30589",
   "metadata": {},
   "outputs": [],
   "source": [
    "df = df.na.drop(subset=[\"active_power\", \"wind_speed\", \"theoretical_curve\", \"wind_direction\"])"
   ]
  },
  {
   "cell_type": "markdown",
   "id": "636033ac-06dd-4638-8664-75b1faecd40f",
   "metadata": {},
   "source": [
    "```\n",
    "------------------------------------------------------------------------------\n",
    "4. Build features & label, then split into train/test\n",
    "------------------------------------------------------------------------------\n",
    "```"
   ]
  },
  {
   "cell_type": "code",
   "execution_count": 8,
   "id": "40db06fd-d8e5-49f0-8cba-47fe8e6e9346",
   "metadata": {},
   "outputs": [],
   "source": [
    "feature_cols = [\"wind_speed\", \"theoretical_curve\", \"wind_direction\"]\n",
    "assembler = va(inputCols=feature_cols, outputCol=\"features\")"
   ]
  },
  {
   "cell_type": "markdown",
   "id": "74b019d3-4128-4ce1-9da4-f33bcdf3276f",
   "metadata": {},
   "source": [
    "Our prediction target is `active_power`"
   ]
  },
  {
   "cell_type": "code",
   "execution_count": 9,
   "id": "a1948ca7-acd2-4868-9913-0a010008cc0a",
   "metadata": {},
   "outputs": [],
   "source": [
    "assembled = assembler.transform(df).select(\"signal_date\", \"signal_ts\", \"features\", \"active_power\")"
   ]
  },
  {
   "cell_type": "markdown",
   "id": "b68eb988-bda3-40af-bc10-3f91d233b72a",
   "metadata": {},
   "source": [
    "Split into train and test sets (80/20)"
   ]
  },
  {
   "cell_type": "code",
   "execution_count": 10,
   "id": "ce1ec053-2048-45cc-8c6d-11e3703976e9",
   "metadata": {},
   "outputs": [],
   "source": [
    "train_data, test_data = assembled.randomSplit([0.8, 0.2], seed=42)"
   ]
  },
  {
   "cell_type": "markdown",
   "id": "60592d55-cd5c-4791-bed7-dacbe5170930",
   "metadata": {},
   "source": [
    "```\n",
    "------------------------------------------------------------------------------\n",
    "5. Train a simple Regression Model (e.g., LinearRegression)\n",
    "------------------------------------------------------------------------------\n",
    "```"
   ]
  },
  {
   "cell_type": "code",
   "execution_count": 11,
   "id": "2f353809-25bd-4045-930a-796867530d5d",
   "metadata": {},
   "outputs": [],
   "source": [
    "lr = lreg(featuresCol=\"features\", labelCol=\"active_power\", maxIter=50)\n",
    "model = lr.fit(train_data)"
   ]
  },
  {
   "cell_type": "markdown",
   "id": "d9734416-b6b5-4710-af57-421998be5548",
   "metadata": {},
   "source": [
    "```\n",
    "------------------------------------------------------------------------------\n",
    "6. Evaluate on the test set\n",
    "------------------------------------------------------------------------------\n",
    "```"
   ]
  },
  {
   "cell_type": "code",
   "execution_count": 12,
   "id": "e2bc5d45-9a2e-49e9-8b08-6ad565f043ed",
   "metadata": {},
   "outputs": [],
   "source": [
    "predictions = model.transform(test_data)"
   ]
  },
  {
   "cell_type": "markdown",
   "id": "ca373290-3a33-4e0d-9db6-95159a801db3",
   "metadata": {},
   "source": [
    "Use a RegressionEvaluator to compute RMSE and R2"
   ]
  },
  {
   "cell_type": "code",
   "execution_count": 13,
   "id": "36b6f1d9-1b83-46c1-bc63-0267a636d35a",
   "metadata": {},
   "outputs": [],
   "source": [
    "evaluator = re(\n",
    "    labelCol=\"active_power\",\n",
    "    predictionCol=\"prediction\",\n",
    "    metricName=\"rmse\"\n",
    ")"
   ]
  },
  {
   "cell_type": "code",
   "execution_count": 14,
   "id": "7db50fac-16a9-422b-9041-5b1a786e0ea1",
   "metadata": {},
   "outputs": [],
   "source": [
    "rmse = evaluator.evaluate(predictions)"
   ]
  },
  {
   "cell_type": "code",
   "execution_count": 15,
   "id": "078c8fdc-687f-435e-a4e0-01bef14107c3",
   "metadata": {},
   "outputs": [],
   "source": [
    "r2 = re(\n",
    "    labelCol=\"active_power\",\n",
    "    predictionCol=\"prediction\",\n",
    "    metricName=\"r2\"\n",
    ").evaluate(predictions)"
   ]
  },
  {
   "cell_type": "code",
   "execution_count": 16,
   "id": "6d97d6aa-214a-420e-8fe6-21c13a284a2a",
   "metadata": {},
   "outputs": [
    {
     "name": "stdout",
     "output_type": "stream",
     "text": [
      "Test RMSE: 452.8843348101753\n",
      "Test R^2: 0.8838325414715553\n"
     ]
    }
   ],
   "source": [
    "print(f\"Test RMSE: {rmse}\")\n",
    "print(f\"Test R^2: {r2}\")"
   ]
  },
  {
   "cell_type": "markdown",
   "id": "ab72f57c-cbef-4519-bb2d-ac710cb50544",
   "metadata": {},
   "source": [
    "```\n",
    "------------------------------------------------------------------------------\n",
    "7. Predicting Active Power for a single day (example)\n",
    "------------------------------------------------------------------------------\n",
    "```\n",
    "We'll filter the dataset to a specific day, e.g. \"2018-01-01\""
   ]
  },
  {
   "cell_type": "code",
   "execution_count": 17,
   "id": "99f2237b-fa5a-4de1-a64f-b3588e72831c",
   "metadata": {},
   "outputs": [],
   "source": [
    "day_to_predict = \"2018-02-15\"\n",
    "future_df = assembled.filter(col(\"signal_date\") == day_to_predict)"
   ]
  },
  {
   "cell_type": "markdown",
   "id": "f63e786d-0746-4757-b703-90684d8ac205",
   "metadata": {},
   "source": [
    "Generate predictions"
   ]
  },
  {
   "cell_type": "code",
   "execution_count": 18,
   "id": "cf2860db-5a58-4bc0-9147-78f94dcafff3",
   "metadata": {},
   "outputs": [
    {
     "name": "stdout",
     "output_type": "stream",
     "text": [
      "+-----------+-------------------+-------------------+\n",
      "|signal_date|signal_ts          |prediction         |\n",
      "+-----------+-------------------+-------------------+\n",
      "|2018-02-15 |2018-02-15 16:50:00|1842.2359607784429 |\n",
      "|2018-02-15 |2018-02-15 02:50:00|3046.9058302870276 |\n",
      "|2018-02-15 |2018-02-15 17:10:00|1962.0427332971472 |\n",
      "|2018-02-15 |2018-02-15 09:10:00|-47.7184928009998  |\n",
      "|2018-02-15 |2018-02-15 13:40:00|811.0757053286508  |\n",
      "|2018-02-15 |2018-02-15 14:10:00|1119.8095100961873 |\n",
      "|2018-02-15 |2018-02-15 02:10:00|2617.2768085733346 |\n",
      "|2018-02-15 |2018-02-15 06:20:00|428.51316322533773 |\n",
      "|2018-02-15 |2018-02-15 10:20:00|-146.97429046975492|\n",
      "|2018-02-15 |2018-02-15 21:50:00|2508.800139550723  |\n",
      "|2018-02-15 |2018-02-15 13:20:00|680.8275449625626  |\n",
      "|2018-02-15 |2018-02-15 19:00:00|2295.629551533294  |\n",
      "|2018-02-15 |2018-02-15 20:40:00|2664.959560086498  |\n",
      "|2018-02-15 |2018-02-15 08:10:00|444.07656189057207 |\n",
      "|2018-02-15 |2018-02-15 19:20:00|2416.3451641979213 |\n",
      "|2018-02-15 |2018-02-15 05:30:00|1101.312194197781  |\n",
      "|2018-02-15 |2018-02-15 12:00:00|223.138293005795   |\n",
      "|2018-02-15 |2018-02-15 14:00:00|997.5145220982971  |\n",
      "|2018-02-15 |2018-02-15 02:20:00|2910.6929507144823 |\n",
      "|2018-02-15 |2018-02-15 01:50:00|2345.0496645303238 |\n",
      "|2018-02-15 |2018-02-15 09:40:00|-42.32516403901408 |\n",
      "|2018-02-15 |2018-02-15 12:40:00|425.7034026806368  |\n",
      "|2018-02-15 |2018-02-15 15:30:00|1822.1100649646964 |\n",
      "|2018-02-15 |2018-02-15 02:30:00|3069.6200069283127 |\n",
      "|2018-02-15 |2018-02-15 08:00:00|252.7321674261732  |\n",
      "|2018-02-15 |2018-02-15 07:00:00|1429.7493141419968 |\n",
      "|2018-02-15 |2018-02-15 11:50:00|192.4746734528644  |\n",
      "|2018-02-15 |2018-02-15 18:00:00|2454.2990610380984 |\n",
      "|2018-02-15 |2018-02-15 14:50:00|1538.3080473680689 |\n",
      "|2018-02-15 |2018-02-15 18:10:00|2202.896867233657  |\n",
      "+-----------+-------------------+-------------------+\n",
      "only showing top 30 rows\n",
      "\n"
     ]
    }
   ],
   "source": [
    "future_preds = model.transform(future_df).select(\"signal_date\", \"signal_ts\", \"prediction\")\n",
    "future_preds.show(30, truncate=False)"
   ]
  },
  {
   "cell_type": "markdown",
   "id": "d73647af-df73-4493-8be3-0a47d54194e8",
   "metadata": {},
   "source": [
    "Stop the Spark session"
   ]
  },
  {
   "cell_type": "code",
   "execution_count": 19,
   "id": "3e8c95ee-b607-4f71-a6e0-3125590a96f0",
   "metadata": {},
   "outputs": [],
   "source": [
    "sprk.stop()"
   ]
  },
  {
   "cell_type": "code",
   "execution_count": null,
   "id": "aaff1250-724f-442c-9daa-091fec3d9793",
   "metadata": {},
   "outputs": [],
   "source": []
  }
 ],
 "metadata": {
  "kernelspec": {
   "display_name": "Python 3 (ipykernel)",
   "language": "python",
   "name": "python3"
  },
  "language_info": {
   "codemirror_mode": {
    "name": "ipython",
    "version": 3
   },
   "file_extension": ".py",
   "mimetype": "text/x-python",
   "name": "python",
   "nbconvert_exporter": "python",
   "pygments_lexer": "ipython3",
   "version": "3.12.9"
  }
 },
 "nbformat": 4,
 "nbformat_minor": 5
}
