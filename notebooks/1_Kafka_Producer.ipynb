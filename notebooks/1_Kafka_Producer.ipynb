{
 "cells": [
  {
   "cell_type": "code",
   "execution_count": 1,
   "id": "7f288637-5c4b-419c-829a-b3405f3029f9",
   "metadata": {},
   "outputs": [],
   "source": [
    "from pyspark.sql import SparkSession as ss\n",
    "from pyspark.sql.functions import to_json, struct, col"
   ]
  },
  {
   "cell_type": "code",
   "execution_count": 2,
   "id": "b360688e-b117-4d5c-a4d5-c9599b1cdcc8",
   "metadata": {},
   "outputs": [],
   "source": [
    "sprk = ss.builder \\\n",
    "    .appName(\"KafkaProducer\") \\\n",
    "    .master(\"spark://spark-master:7077\") \\\n",
    "    .config(\"spark.jars.packages\", \"org.apache.spark:spark-sql-kafka-0-10_2.12:3.5.5\") \\\n",
    "    .config(\"spark.jars.repositories\", \"https://repos.spark-packages.org\") \\\n",
    "    .config(\"spark.executor.cores\", \"4\") \\\n",
    "    .config(\"spark.executor.memory\", \"10g\")\\\n",
    "    .config(\"spark.cores.max\", \"4\") \\\n",
    "    .getOrCreate()"
   ]
  },
  {
   "cell_type": "code",
   "execution_count": 3,
   "id": "f3a59f0a-20ad-4c72-8c89-36bea361d8b2",
   "metadata": {},
   "outputs": [],
   "source": [
    "fp = \"/data/dataset.csv\""
   ]
  },
  {
   "cell_type": "code",
   "execution_count": 4,
   "id": "b03ba8a1-f274-451b-9996-6f08413611a8",
   "metadata": {},
   "outputs": [],
   "source": [
    "df = sprk.read.csv(fp, header=True, inferSchema=True)"
   ]
  },
  {
   "cell_type": "code",
   "execution_count": 5,
   "id": "1da6ab5c-c449-40ec-8c3a-940b72ba0722",
   "metadata": {},
   "outputs": [
    {
     "name": "stdout",
     "output_type": "stream",
     "text": [
      "+----------------+-------------------+----------------+-----------------------------+------------------+\n",
      "|       Date/Time|LV ActivePower (kW)|Wind Speed (m/s)|Theoretical_Power_Curve (KWh)|Wind Direction (°)|\n",
      "+----------------+-------------------+----------------+-----------------------------+------------------+\n",
      "|01 01 2018 00:00|   380.047790527343|5.31133604049682|             416.328907824861|  259.994903564453|\n",
      "|01 01 2018 00:10|    453.76919555664|5.67216682434082|             519.917511061494|   268.64111328125|\n",
      "|01 01 2018 00:20|   306.376586914062|5.21603679656982|             390.900015810951|  272.564788818359|\n",
      "|01 01 2018 00:30|   419.645904541015|5.65967416763305|             516.127568975674|  271.258087158203|\n",
      "|01 01 2018 00:40|   380.650695800781|5.57794094085693|             491.702971953588|  265.674285888671|\n",
      "+----------------+-------------------+----------------+-----------------------------+------------------+\n",
      "only showing top 5 rows\n",
      "\n"
     ]
    }
   ],
   "source": [
    "df.show(5)"
   ]
  },
  {
   "cell_type": "code",
   "execution_count": 6,
   "id": "0e1b5ae5-6f56-4957-824a-765db9380584",
   "metadata": {
    "scrolled": true
   },
   "outputs": [
    {
     "name": "stdout",
     "output_type": "stream",
     "text": [
      "root\n",
      " |-- Date/Time: string (nullable = true)\n",
      " |-- LV ActivePower (kW): double (nullable = true)\n",
      " |-- Wind Speed (m/s): double (nullable = true)\n",
      " |-- Theoretical_Power_Curve (KWh): double (nullable = true)\n",
      " |-- Wind Direction (°): double (nullable = true)\n",
      "\n"
     ]
    }
   ],
   "source": [
    "df.printSchema()"
   ]
  },
  {
   "cell_type": "code",
   "execution_count": 7,
   "id": "c8d293dc-1f8d-4a71-a936-d491567fec44",
   "metadata": {},
   "outputs": [],
   "source": [
    "ds = sprk.readStream \\\n",
    "    .option(\"header\", True) \\\n",
    "    .schema(df.schema) \\\n",
    "    .csv(\"/data/\")"
   ]
  },
  {
   "cell_type": "code",
   "execution_count": 8,
   "id": "a6491cf5-7279-4fcb-86ca-d001bf8432df",
   "metadata": {},
   "outputs": [],
   "source": [
    "out = ds.select(to_json(struct([col(c) for c in ds.columns])).alias(\"value\"))"
   ]
  },
  {
   "cell_type": "code",
   "execution_count": 9,
   "id": "9420c8f9-b7ee-4c4b-8231-479d24fc4816",
   "metadata": {},
   "outputs": [
    {
     "data": {
      "text/plain": [
       "<pyspark.sql.streaming.query.StreamingQuery at 0x715d335fdf70>"
      ]
     },
     "execution_count": 9,
     "metadata": {},
     "output_type": "execute_result"
    }
   ],
   "source": [
    "out.writeStream \\\n",
    "    .format(\"kafka\") \\\n",
    "    .option(\"kafka.bootstrap.servers\", \"kafka:9092\") \\\n",
    "    .option(\"topic\", \"xenon-topic\") \\\n",
    "    .option(\"checkpointLocation\", \"/tmp/kafka_checkpoint\") \\\n",
    "    .start()"
   ]
  },
  {
   "cell_type": "code",
   "execution_count": 10,
   "id": "3c630e99-f6d6-489e-aaa3-97040465db52",
   "metadata": {},
   "outputs": [],
   "source": [
    "sprk.stop()"
   ]
  },
  {
   "cell_type": "code",
   "execution_count": null,
   "id": "a017e298-4031-48e3-87dc-2ecb3ee47dcf",
   "metadata": {},
   "outputs": [],
   "source": []
  }
 ],
 "metadata": {
  "kernelspec": {
   "display_name": "Python 3 (ipykernel)",
   "language": "python",
   "name": "python3"
  },
  "language_info": {
   "codemirror_mode": {
    "name": "ipython",
    "version": 3
   },
   "file_extension": ".py",
   "mimetype": "text/x-python",
   "name": "python",
   "nbconvert_exporter": "python",
   "pygments_lexer": "ipython3",
   "version": "3.12.9"
  }
 },
 "nbformat": 4,
 "nbformat_minor": 5
}
