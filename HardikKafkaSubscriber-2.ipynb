{
 "cells": [
  {
   "cell_type": "code",
   "execution_count": 1,
   "id": "34b9dc38-77f1-4411-8e03-32b50b90a394",
   "metadata": {},
   "outputs": [],
   "source": [
    "from pyspark.sql import SparkSession\n",
    "from pyspark.sql import functions as F\n",
    "from pyspark.sql.types import StructType, StructField, StringType, DoubleType, DateType, TimestampType"
   ]
  },
  {
   "cell_type": "code",
   "execution_count": 2,
   "id": "7aad8f26-47f8-4d98-9503-1cd7313c8fae",
   "metadata": {},
   "outputs": [
    {
     "name": "stdout",
     "output_type": "stream",
     "text": [
      ":: loading settings :: url = jar:file:/opt/spark/jars/ivy-2.5.1.jar!/org/apache/ivy/core/settings/ivysettings.xml\n"
     ]
    },
    {
     "name": "stderr",
     "output_type": "stream",
     "text": [
      "Ivy Default Cache set to: /home/xs519-hargup/.ivy2/cache\n",
      "The jars for the packages stored in: /home/xs519-hargup/.ivy2/jars\n",
      "org.apache.spark#spark-sql-kafka-0-10_2.12 added as a dependency\n",
      "io.delta#delta-core_2.12 added as a dependency\n",
      ":: resolving dependencies :: org.apache.spark#spark-submit-parent-a39fda0e-b32e-49cc-9098-cfe144812ccc;1.0\n",
      "\tconfs: [default]\n",
      "\tfound org.apache.spark#spark-sql-kafka-0-10_2.12;3.4.0 in central\n",
      "\tfound org.apache.spark#spark-token-provider-kafka-0-10_2.12;3.4.0 in central\n",
      "\tfound org.apache.kafka#kafka-clients;3.3.2 in central\n",
      "\tfound org.lz4#lz4-java;1.8.0 in central\n",
      "\tfound org.xerial.snappy#snappy-java;1.1.9.1 in central\n",
      "\tfound org.slf4j#slf4j-api;2.0.6 in central\n",
      "\tfound org.apache.hadoop#hadoop-client-runtime;3.3.4 in central\n",
      "\tfound org.apache.hadoop#hadoop-client-api;3.3.4 in central\n",
      "\tfound commons-logging#commons-logging;1.1.3 in central\n",
      "\tfound com.google.code.findbugs#jsr305;3.0.0 in central\n",
      "\tfound org.apache.commons#commons-pool2;2.11.1 in central\n",
      "\tfound io.delta#delta-core_2.12;2.4.0 in central\n",
      "\tfound io.delta#delta-storage;2.4.0 in central\n",
      "\tfound org.antlr#antlr4-runtime;4.9.3 in central\n",
      ":: resolution report :: resolve 343ms :: artifacts dl 13ms\n",
      "\t:: modules in use:\n",
      "\tcom.google.code.findbugs#jsr305;3.0.0 from central in [default]\n",
      "\tcommons-logging#commons-logging;1.1.3 from central in [default]\n",
      "\tio.delta#delta-core_2.12;2.4.0 from central in [default]\n",
      "\tio.delta#delta-storage;2.4.0 from central in [default]\n",
      "\torg.antlr#antlr4-runtime;4.9.3 from central in [default]\n",
      "\torg.apache.commons#commons-pool2;2.11.1 from central in [default]\n",
      "\torg.apache.hadoop#hadoop-client-api;3.3.4 from central in [default]\n",
      "\torg.apache.hadoop#hadoop-client-runtime;3.3.4 from central in [default]\n",
      "\torg.apache.kafka#kafka-clients;3.3.2 from central in [default]\n",
      "\torg.apache.spark#spark-sql-kafka-0-10_2.12;3.4.0 from central in [default]\n",
      "\torg.apache.spark#spark-token-provider-kafka-0-10_2.12;3.4.0 from central in [default]\n",
      "\torg.lz4#lz4-java;1.8.0 from central in [default]\n",
      "\torg.slf4j#slf4j-api;2.0.6 from central in [default]\n",
      "\torg.xerial.snappy#snappy-java;1.1.9.1 from central in [default]\n",
      "\t---------------------------------------------------------------------\n",
      "\t|                  |            modules            ||   artifacts   |\n",
      "\t|       conf       | number| search|dwnlded|evicted|| number|dwnlded|\n",
      "\t---------------------------------------------------------------------\n",
      "\t|      default     |   14  |   0   |   0   |   0   ||   14  |   0   |\n",
      "\t---------------------------------------------------------------------\n",
      ":: retrieving :: org.apache.spark#spark-submit-parent-a39fda0e-b32e-49cc-9098-cfe144812ccc\n",
      "\tconfs: [default]\n",
      "\t0 artifacts copied, 14 already retrieved (0kB/7ms)\n",
      "25/03/26 10:45:24 WARN NativeCodeLoader: Unable to load native-hadoop library for your platform... using builtin-java classes where applicable\n",
      "Setting default log level to \"WARN\".\n",
      "To adjust logging level use sc.setLogLevel(newLevel). For SparkR, use setLogLevel(newLevel).\n"
     ]
    }
   ],
   "source": [
    "# Initialize a Spark session\n",
    "spark = SparkSession.builder \\\n",
    "    .appName(\"WindPowerData\") \\\n",
    "    .config(\"spark.jars.packages\", \"org.apache.spark:spark-sql-kafka-0-10_2.12:3.4.0,io.delta:delta-core_2.12:2.4.0\") \\\n",
    "    .config(\"spark.sql.extensions\", \"io.delta.sql.DeltaSparkSessionExtension\") \\\n",
    "    .config(\"spark.sql.catalog.spark_catalog\", \"org.apache.spark.sql.delta.catalog.DeltaCatalog\") \\\n",
    "    .config(\"spark.sql.debug.maxToStringFields\", \"2000\") \\\n",
    "    .config(\"spark.sql.legacy.timeParserPolicy\", \"LEGACY\") \\\n",
    "    .getOrCreate()"
   ]
  },
  {
   "cell_type": "code",
   "execution_count": 3,
   "id": "0aa35e40-d6f6-4606-9646-92bec03cfc0b",
   "metadata": {},
   "outputs": [],
   "source": [
    "kafka_bootstrap_servers = \"localhost:9092\"  # Replace with your Kafka broker\n",
    "kafka_topic = \"wind-data\"  # Replace with your Kafka topic name"
   ]
  },
  {
   "cell_type": "code",
   "execution_count": 4,
   "id": "b1949965-61d5-4337-a983-55b2e4dcf01a",
   "metadata": {},
   "outputs": [],
   "source": [
    "df_kafka = spark.readStream \\\n",
    "            .format(\"kafka\") \\\n",
    "            .option(\"kafka.bootstrap.servers\", kafka_bootstrap_servers) \\\n",
    "            .option(\"subscribe\", kafka_topic) \\\n",
    "            .option(\"startingOffsets\", \"earliest\") \\\n",
    "            .load()"
   ]
  },
  {
   "cell_type": "code",
   "execution_count": 5,
   "id": "3cfb332a-47a9-430c-8ee5-800b25fd10e3",
   "metadata": {},
   "outputs": [],
   "source": [
    "# Extract the message value (assuming it’s in string format)\n",
    "df_kafka_value = df_kafka.selectExpr(\"CAST(value AS STRING)\")"
   ]
  },
  {
   "cell_type": "code",
   "execution_count": 6,
   "id": "83bb1aad-4fc1-4dc3-8055-da2977084a80",
   "metadata": {},
   "outputs": [],
   "source": [
    "# Define the schema of the JSON message (example schema)\n",
    "json_schema = StructType([\n",
    "    StructField(\"Date/Time\", StringType(), True),\n",
    "    StructField(\"LV Active Power (kW)\", DoubleType(), True),\n",
    "    StructField(\"Wind Speed (m/s)\", DoubleType(), True),\n",
    "    StructField(\"Theoretical_Power_Curve (kWh)\", DoubleType(), True),\n",
    "    StructField(\"Wind Direction (°)\", DoubleType(), True)\n",
    "])\n",
    "\n",
    "# Parse the JSON message\n",
    "df_parsed = df_kafka_value.withColumn(\"jsonData\", F.from_json(F.col(\"value\"), json_schema))\n",
    "df_final = df_parsed.select(\"jsonData.*\")"
   ]
  },
  {
   "cell_type": "code",
   "execution_count": 7,
   "id": "4f5830cb-d589-4f48-9efc-b414c4a7fa68",
   "metadata": {},
   "outputs": [
    {
     "data": {
      "text/plain": [
       "DataFrame[Date/Time: string, LV Active Power (kW): double, Wind Speed (m/s): double, Theoretical_Power_Curve (kWh): double, Wind Direction (°): double]"
      ]
     },
     "execution_count": 7,
     "metadata": {},
     "output_type": "execute_result"
    }
   ],
   "source": [
    "df_final"
   ]
  },
  {
   "cell_type": "code",
   "execution_count": 8,
   "id": "b14c317c-b15d-4245-a1c7-ad8ad500eb31",
   "metadata": {},
   "outputs": [
    {
     "name": "stdout",
     "output_type": "stream",
     "text": [
      "root\n",
      " |-- Date/Time: string (nullable = true)\n",
      " |-- LV Active Power (kW): double (nullable = true)\n",
      " |-- Wind Speed (m/s): double (nullable = true)\n",
      " |-- Theoretical_Power_Curve (kWh): double (nullable = true)\n",
      " |-- Wind Direction (°): double (nullable = true)\n",
      "\n"
     ]
    }
   ],
   "source": [
    "df_final.printSchema()"
   ]
  },
  {
   "cell_type": "code",
   "execution_count": 9,
   "id": "69b627aa-4475-48bf-bdc0-6c28e7a28dc1",
   "metadata": {},
   "outputs": [
    {
     "name": "stdout",
     "output_type": "stream",
     "text": [
      "True\n"
     ]
    }
   ],
   "source": [
    "print(df_kafka_value.isStreaming)"
   ]
  },
  {
   "cell_type": "code",
   "execution_count": 10,
   "id": "08b2b487-70fb-43a4-b2b6-ab586608cefb",
   "metadata": {},
   "outputs": [],
   "source": [
    "# # Sample DataFrame creation\n",
    "# data = [\n",
    "#     (\"2025-03-25 17:00:00\", 100.5, 8.2, 50.0, 45.0),\n",
    "#     (\"2025-03-26 18:30:00\", 200.0, 10.5, 75.0, 90.0)\n",
    "# ]\n",
    "# columns = [\"Date/Time\", \"LV Active Power (kW)\", \"Wind Speed (m/s)\", \"Theoretical_Power_Curve (kWh)\", \"Wind Direction (°)\"]\n",
    "\n",
    "# df = spark.createDataFrame(data, columns)\n",
    "\n",
    "# Step 1: Parse signal_date and signal_ts\n",
    "df_final = df_final.withColumn(\"signal_date\", F.to_date(F.expr(\"substring(`Date/Time`, 1, 10)\"), \"yyyy-MM-dd\")) \\\n",
    "       .withColumn(\"signal_ts\", F.date_format(F.to_timestamp(F.col(\"Date/Time\"), \"yyyy-MM-dd HH:mm:ss\"), \"yyyy-MM-dd'T'HH:mm:ss\"))\n",
    "\n",
    "# Step 2: Add create_date and create_ts\n",
    "df_final = df_final.withColumn(\"create_date\", F.current_date().cast(\"date\")) \\\n",
    "       .withColumn(\"create_ts\", F.date_format(F.current_timestamp(), \"yyyy-MM-dd'T'HH:mm:ss\"))\n",
    "\n",
    "# # Step 3: Construct the signals column\n",
    "# signal_columns = [\"LV Active Power (kW)\", \"Wind Speed (m/s)\", \"Theoretical_Power_Curve (kWh)\", \"Wind Direction (°)\"]\n",
    "\n",
    "# keys = F.array([F.lit(c) for c in signal_columns])  # Array of column names\n",
    "# values = F.array([F.col(c).cast(\"string\") for c in signal_columns])  # Array of column values\n",
    "\n",
    "# Use map_from_arrays with keys and values arrays\n",
    "df_final = df_final.withColumn(\"signals\", F.map_from_arrays(\n",
    "        array(\n",
    "            lit(\"LV ActivePower (kW)\"),\n",
    "            lit(\"Wind Speed (m/s)\"),\n",
    "            lit(\"Theoretical_Power_Curve (KWh)\"),\n",
    "            lit(\"Wind Direction (°)\")\n",
    "        ),\n",
    "        array(\n",
    "            col(\"LV ActivePower (kW)\").cast(\"string\"),\n",
    "            col(\"Wind Speed (m/s)\").cast(\"string\"),\n",
    "            col(\"Theoretical_Power_Curve (KWh)\").cast(\"string\"),\n",
    "            col(\"Wind Direction (°)\").cast(\"string\")\n",
    "        )))\n",
    "\n",
    "# Select required columns\n",
    "delta_df = df_final.select(\"signal_date\", \"signal_ts\", \"create_date\", \"create_ts\", \"signals\")\n"
   ]
  },
  {
   "cell_type": "code",
   "execution_count": 11,
   "id": "06cec8e0-2e43-411c-a5bb-e86e79f8ab15",
   "metadata": {},
   "outputs": [
    {
     "name": "stdout",
     "output_type": "stream",
     "text": [
      "root\n",
      " |-- signal_date: date (nullable = true)\n",
      " |-- signal_ts: string (nullable = true)\n",
      " |-- create_date: date (nullable = false)\n",
      " |-- create_ts: string (nullable = false)\n",
      " |-- signals: map (nullable = false)\n",
      " |    |-- key: string\n",
      " |    |-- value: string (valueContainsNull = true)\n",
      "\n"
     ]
    }
   ],
   "source": [
    "delta_df.printSchema()"
   ]
  },
  {
   "cell_type": "code",
   "execution_count": 12,
   "id": "9f0d5791-8348-47fa-9732-4064e3ed1085",
   "metadata": {},
   "outputs": [],
   "source": [
    "delta_table_path = \"./Delta-Table\"  "
   ]
  },
  {
   "cell_type": "code",
   "execution_count": 13,
   "id": "3abd0019-3b80-447f-9e75-0e4ff85ab486",
   "metadata": {},
   "outputs": [
    {
     "name": "stderr",
     "output_type": "stream",
     "text": [
      "25/03/26 10:46:03 WARN ResolveWriteToStream: spark.sql.adaptive.enabled is not supported in streaming DataFrames/Datasets and will be disabled.\n"
     ]
    },
    {
     "data": {
      "text/plain": [
       "<pyspark.sql.streaming.query.StreamingQuery at 0x79ee70b02050>"
      ]
     },
     "execution_count": 13,
     "metadata": {},
     "output_type": "execute_result"
    },
    {
     "name": "stderr",
     "output_type": "stream",
     "text": [
      "25/03/26 10:46:03 WARN AdminClientConfig: These configurations '[key.deserializer, value.deserializer, enable.auto.commit, max.poll.records, auto.offset.reset]' were supplied but are not used yet.\n",
      "                                                                                "
     ]
    }
   ],
   "source": [
    "# Writing the streaming data to Delta table\n",
    "delta_df.writeStream \\\n",
    " .format(\"delta\") \\\n",
    " .outputMode(\"append\") \\\n",
    " .option(\"checkpointLocation\", \"./Checkpoint-Delta/\") \\\n",
    " .start(delta_table_path)"
   ]
  },
  {
   "cell_type": "code",
   "execution_count": 14,
   "id": "c1decc32-401c-401c-bb8f-05d41521e29b",
   "metadata": {},
   "outputs": [],
   "source": [
    "delta_table_df = spark.read.format(\"delta\").load(\"./Delta-Table\")"
   ]
  },
  {
   "cell_type": "code",
   "execution_count": 15,
   "id": "5b9b0bdd-7069-46b5-a724-ea4825fbc557",
   "metadata": {},
   "outputs": [
    {
     "name": "stdout",
     "output_type": "stream",
     "text": [
      "+-----------+---------+-----------+-------------------+---------------------------------------------------------------------------------------------------------------------------------------------------+\n",
      "|signal_date|signal_ts|create_date|create_ts          |signals                                                                                                                                            |\n",
      "+-----------+---------+-----------+-------------------+---------------------------------------------------------------------------------------------------------------------------------------------------+\n",
      "|null       |null     |2025-03-26 |2025-03-26T10:46:04|{LV Active Power (kW) -> null, Wind Speed (m/s) -> 5.31133604049682, Theoretical_Power_Curve (kWh) -> null, Wind Direction (°) -> 259.994903564453}|\n",
      "|null       |null     |2025-03-26 |2025-03-26T10:46:04|{LV Active Power (kW) -> null, Wind Speed (m/s) -> 5.67216682434082, Theoretical_Power_Curve (kWh) -> null, Wind Direction (°) -> 268.64111328125} |\n",
      "|null       |null     |2025-03-26 |2025-03-26T10:46:04|{LV Active Power (kW) -> null, Wind Speed (m/s) -> 5.21603679656982, Theoretical_Power_Curve (kWh) -> null, Wind Direction (°) -> 272.564788818359}|\n",
      "|null       |null     |2025-03-26 |2025-03-26T10:46:04|{LV Active Power (kW) -> null, Wind Speed (m/s) -> 5.65967416763305, Theoretical_Power_Curve (kWh) -> null, Wind Direction (°) -> 271.258087158203}|\n",
      "|null       |null     |2025-03-26 |2025-03-26T10:46:04|{LV Active Power (kW) -> null, Wind Speed (m/s) -> 5.57794094085693, Theoretical_Power_Curve (kWh) -> null, Wind Direction (°) -> 265.674285888671}|\n",
      "|null       |null     |2025-03-26 |2025-03-26T10:46:04|{LV Active Power (kW) -> null, Wind Speed (m/s) -> 5.60405206680297, Theoretical_Power_Curve (kWh) -> null, Wind Direction (°) -> 264.57861328125} |\n",
      "|null       |null     |2025-03-26 |2025-03-26T10:46:04|{LV Active Power (kW) -> null, Wind Speed (m/s) -> 5.79300785064697, Theoretical_Power_Curve (kWh) -> null, Wind Direction (°) -> 266.163604736328}|\n",
      "|null       |null     |2025-03-26 |2025-03-26T10:46:04|{LV Active Power (kW) -> null, Wind Speed (m/s) -> 5.30604982376098, Theoretical_Power_Curve (kWh) -> null, Wind Direction (°) -> 257.949493408203}|\n",
      "|null       |null     |2025-03-26 |2025-03-26T10:46:04|{LV Active Power (kW) -> null, Wind Speed (m/s) -> 5.58462905883789, Theoretical_Power_Curve (kWh) -> null, Wind Direction (°) -> 253.480697631835}|\n",
      "|null       |null     |2025-03-26 |2025-03-26T10:46:04|{LV Active Power (kW) -> null, Wind Speed (m/s) -> 5.52322816848754, Theoretical_Power_Curve (kWh) -> null, Wind Direction (°) -> 258.72378540039} |\n",
      "|null       |null     |2025-03-26 |2025-03-26T10:46:04|{LV Active Power (kW) -> null, Wind Speed (m/s) -> 5.72411584854125, Theoretical_Power_Curve (kWh) -> null, Wind Direction (°) -> 251.850997924804}|\n",
      "|null       |null     |2025-03-26 |2025-03-26T10:46:04|{LV Active Power (kW) -> null, Wind Speed (m/s) -> 5.93419885635375, Theoretical_Power_Curve (kWh) -> null, Wind Direction (°) -> 265.504699707031}|\n",
      "|null       |null     |2025-03-26 |2025-03-26T10:46:04|{LV Active Power (kW) -> null, Wind Speed (m/s) -> 6.54741382598876, Theoretical_Power_Curve (kWh) -> null, Wind Direction (°) -> 274.23291015625} |\n",
      "|null       |null     |2025-03-26 |2025-03-26T10:46:04|{LV Active Power (kW) -> null, Wind Speed (m/s) -> 6.19974613189697, Theoretical_Power_Curve (kWh) -> null, Wind Direction (°) -> 266.733184814453}|\n",
      "|null       |null     |2025-03-26 |2025-03-26T10:46:04|{LV Active Power (kW) -> null, Wind Speed (m/s) -> 6.50538301467895, Theoretical_Power_Curve (kWh) -> null, Wind Direction (°) -> 266.76040649414} |\n",
      "|null       |null     |2025-03-26 |2025-03-26T10:46:04|{LV Active Power (kW) -> null, Wind Speed (m/s) -> 6.63411617279052, Theoretical_Power_Curve (kWh) -> null, Wind Direction (°) -> 270.493194580078}|\n",
      "|null       |null     |2025-03-26 |2025-03-26T10:46:04|{LV Active Power (kW) -> null, Wind Speed (m/s) -> 6.37891292572021, Theoretical_Power_Curve (kWh) -> null, Wind Direction (°) -> 266.593292236328}|\n",
      "|null       |null     |2025-03-26 |2025-03-26T10:46:04|{LV Active Power (kW) -> null, Wind Speed (m/s) -> 6.4466528892517, Theoretical_Power_Curve (kWh) -> null, Wind Direction (°) -> 265.571807861328} |\n",
      "|null       |null     |2025-03-26 |2025-03-26T10:46:04|{LV Active Power (kW) -> null, Wind Speed (m/s) -> 6.41508293151855, Theoretical_Power_Curve (kWh) -> null, Wind Direction (°) -> 261.15869140625} |\n",
      "|null       |null     |2025-03-26 |2025-03-26T10:46:04|{LV Active Power (kW) -> null, Wind Speed (m/s) -> 6.43753099441528, Theoretical_Power_Curve (kWh) -> null, Wind Direction (°) -> 257.56021118164} |\n",
      "+-----------+---------+-----------+-------------------+---------------------------------------------------------------------------------------------------------------------------------------------------+\n",
      "only showing top 20 rows\n",
      "\n"
     ]
    }
   ],
   "source": [
    "delta_table_df.show(truncate=False)"
   ]
  },
  {
   "cell_type": "code",
   "execution_count": null,
   "id": "e2b0e0ad-cf3a-4ae7-92b3-2e3d6ee8d579",
   "metadata": {},
   "outputs": [],
   "source": [
    "spark.stop()"
   ]
  },
  {
   "cell_type": "code",
   "execution_count": null,
   "id": "b6e6a5e6-5ac1-40a7-8c3b-a7c6afac26bc",
   "metadata": {},
   "outputs": [],
   "source": []
  }
 ],
 "metadata": {
  "kernelspec": {
   "display_name": "Python 3 (ipykernel)",
   "language": "python",
   "name": "python3"
  },
  "language_info": {
   "codemirror_mode": {
    "name": "ipython",
    "version": 3
   },
   "file_extension": ".py",
   "mimetype": "text/x-python",
   "name": "python",
   "nbconvert_exporter": "python",
   "pygments_lexer": "ipython3",
   "version": "3.10.12"
  }
 },
 "nbformat": 4,
 "nbformat_minor": 5
}
